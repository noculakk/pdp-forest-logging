{
 "cells": [
  {
   "cell_type": "markdown",
   "metadata": {},
   "source": [
    "# PDP / Forest Logging Detection"
   ]
  },
  {
   "cell_type": "code",
   "execution_count": 1,
   "metadata": {},
   "outputs": [],
   "source": [
    "import ee\n",
    "import geemap\n",
    "import geopandas as gpd"
   ]
  },
  {
   "cell_type": "markdown",
   "metadata": {},
   "source": [
    "## Testowanie"
   ]
  },
  {
   "cell_type": "code",
   "execution_count": 2,
   "metadata": {},
   "outputs": [
    {
     "data": {
      "text/html": [
       "\n",
       "            <style>\n",
       "                .geemap-dark {\n",
       "                    --jp-widgets-color: white;\n",
       "                    --jp-widgets-label-color: white;\n",
       "                    --jp-ui-font-color1: white;\n",
       "                    --jp-layout-color2: #454545;\n",
       "                    background-color: #383838;\n",
       "                }\n",
       "\n",
       "                .geemap-dark .jupyter-button {\n",
       "                    --jp-layout-color3: #383838;\n",
       "                }\n",
       "\n",
       "                .geemap-colab {\n",
       "                    background-color: var(--colab-primary-surface-color, white);\n",
       "                }\n",
       "\n",
       "                .geemap-colab .jupyter-button {\n",
       "                    --jp-layout-color3: var(--colab-primary-surface-color, white);\n",
       "                }\n",
       "            </style>\n",
       "            "
      ],
      "text/plain": [
       "<IPython.core.display.HTML object>"
      ]
     },
     "metadata": {},
     "output_type": "display_data"
    },
    {
     "data": {
      "text/html": [
       "<p>To authorize access needed by Earth Engine, open the following\n",
       "        URL in a web browser and follow the instructions:</p>\n",
       "        <p><a href=https://code.earthengine.google.com/client-auth?scopes=https%3A//www.googleapis.com/auth/earthengine%20https%3A//www.googleapis.com/auth/cloud-platform%20https%3A//www.googleapis.com/auth/devstorage.full_control&request_id=s_Bg27LtVAao5fncVslGzxTZHwzLf9PW2HAAYHV1cJQ&tc=bWbZYNM__kT027ScC5fbt5AAuOPTiVrIJRN0fDbok38&cc=HTKxS15bwqIjcXOjmB6K3SUCqjparuzwZdgwuQ_NYLQ>https://code.earthengine.google.com/client-auth?scopes=https%3A//www.googleapis.com/auth/earthengine%20https%3A//www.googleapis.com/auth/cloud-platform%20https%3A//www.googleapis.com/auth/devstorage.full_control&request_id=s_Bg27LtVAao5fncVslGzxTZHwzLf9PW2HAAYHV1cJQ&tc=bWbZYNM__kT027ScC5fbt5AAuOPTiVrIJRN0fDbok38&cc=HTKxS15bwqIjcXOjmB6K3SUCqjparuzwZdgwuQ_NYLQ</a></p>\n",
       "        <p>The authorization workflow will generate a code, which you should paste in the box below.</p>\n",
       "        "
      ],
      "text/plain": [
       "<IPython.core.display.HTML object>"
      ]
     },
     "metadata": {},
     "output_type": "display_data"
    },
    {
     "name": "stdout",
     "output_type": "stream",
     "text": [
      "\n",
      "Successfully saved authorization token.\n"
     ]
    }
   ],
   "source": [
    "ee.Authenticate() \n",
    "ee.Initialize()"
   ]
  },
  {
   "cell_type": "code",
   "execution_count": 97,
   "metadata": {},
   "outputs": [
    {
     "data": {
      "text/html": [
       "\n",
       "            <style>\n",
       "                .geemap-dark {\n",
       "                    --jp-widgets-color: white;\n",
       "                    --jp-widgets-label-color: white;\n",
       "                    --jp-ui-font-color1: white;\n",
       "                    --jp-layout-color2: #454545;\n",
       "                    background-color: #383838;\n",
       "                }\n",
       "\n",
       "                .geemap-dark .jupyter-button {\n",
       "                    --jp-layout-color3: #383838;\n",
       "                }\n",
       "\n",
       "                .geemap-colab {\n",
       "                    background-color: var(--colab-primary-surface-color, white);\n",
       "                }\n",
       "\n",
       "                .geemap-colab .jupyter-button {\n",
       "                    --jp-layout-color3: var(--colab-primary-surface-color, white);\n",
       "                }\n",
       "            </style>\n",
       "            "
      ],
      "text/plain": [
       "<IPython.core.display.HTML object>"
      ]
     },
     "metadata": {},
     "output_type": "display_data"
    }
   ],
   "source": [
    "def visualize_forest_change(year):\n",
    "    if year < 2001 or year > 2023:\n",
    "        raise ValueError(\"Podaj rok w zakresie od 2001 do 2023.\")\n",
    "    ee.Initialize()\n",
    "\n",
    "    poland = ee.FeatureCollection(\"FAO/GAUL/2015/level0\").filter(\n",
    "        ee.Filter.eq(\"ADM0_NAME\", \"Poland\")\n",
    "    )\n",
    "\n",
    "    hansen_data = ee.Image(\"UMD/hansen/global_forest_change_2023_v1_11\")\n",
    "\n",
    "    loss = hansen_data.select(\"loss\")\n",
    "    loss_year = hansen_data.select(\"lossyear\")\n",
    "    # Filtr strat lasu dla wybranego roku\n",
    "    loss_in_year = loss.updateMask(loss_year.eq(year - 2000))\n",
    "    loss_in_year_poland = loss_in_year.clip(poland)\n",
    "\n",
    "    satellite_data_following_year = (\n",
    "        ee.ImageCollection(\"COPERNICUS/S2\")\n",
    "        .filterDate(f\"{year + 1}-06-01\", f\"{year + 1}-08-31\")\n",
    "        .filterBounds(poland)\n",
    "        .filter(ee.Filter.lt(\"CLOUDY_PIXEL_PERCENTAGE\", 20))\n",
    "        .median()\n",
    "        .clip(poland)\n",
    "    )\n",
    "\n",
    "    satellite_data_previous_year = (\n",
    "        ee.ImageCollection(\"COPERNICUS/S2\")\n",
    "        .filterDate(f\"{year - 1}-06-01\", f\"{year - 1}-08-31\")\n",
    "        .filterBounds(poland)\n",
    "        .filter(ee.Filter.lt(\"CLOUDY_PIXEL_PERCENTAGE\", 20))\n",
    "        .median()\n",
    "        .clip(poland)\n",
    "    )\n",
    "\n",
    "    # ustalenie obszaru zalesionego\n",
    "    forest_cover = hansen_data.select(\"treecover2000\").clip(poland).gte(25).selfMask()\n",
    "    # .And(\n",
    "    #     hansen_data \\\n",
    "    #         .select('lossyear') \\\n",
    "    #         .gt(year - 2000) \\\n",
    "    #         .Or(hansen_data.select('lossyear').eq(0))\n",
    "    # )\n",
    "\n",
    "    loss_viz = {\"min\": 0, \"max\": 1, \"palette\": [\"red\"]}\n",
    "    satellite_viz = {\"bands\": [\"B4\", \"B3\", \"B2\"], \"min\": 0, \"max\": 3000, \"gamma\": 1.2}\n",
    "\n",
    "    map = geemap.Map()\n",
    "    map.centerObject(poland, 6)  # Przybliżenie na Polskę\n",
    "    map.addLayer(satellite_data_following_year, satellite_viz, f\"SAT {year + 1}\")\n",
    "    map.addLayer(satellite_data_previous_year, satellite_viz, f\"SAT {year - 1}\")\n",
    "    map.addLayer(loss_in_year_poland, loss_viz, f\"Straty lasu w {year}\")\n",
    "    map.addLayer(poland, {\"color\": \"blue\"}, \"Granice Polski\")\n",
    "    map.addLayer(forest_cover, {\"palette\": [\"green\"]}, \"Obszary leśne\")\n",
    "\n",
    "    return map"
   ]
  },
  {
   "cell_type": "code",
   "execution_count": 98,
   "metadata": {},
   "outputs": [
    {
     "data": {
      "text/html": [
       "\n",
       "            <style>\n",
       "                .geemap-dark {\n",
       "                    --jp-widgets-color: white;\n",
       "                    --jp-widgets-label-color: white;\n",
       "                    --jp-ui-font-color1: white;\n",
       "                    --jp-layout-color2: #454545;\n",
       "                    background-color: #383838;\n",
       "                }\n",
       "\n",
       "                .geemap-dark .jupyter-button {\n",
       "                    --jp-layout-color3: #383838;\n",
       "                }\n",
       "\n",
       "                .geemap-colab {\n",
       "                    background-color: var(--colab-primary-surface-color, white);\n",
       "                }\n",
       "\n",
       "                .geemap-colab .jupyter-button {\n",
       "                    --jp-layout-color3: var(--colab-primary-surface-color, white);\n",
       "                }\n",
       "            </style>\n",
       "            "
      ],
      "text/plain": [
       "<IPython.core.display.HTML object>"
      ]
     },
     "metadata": {},
     "output_type": "display_data"
    },
    {
     "data": {
      "application/vnd.jupyter.widget-view+json": {
       "model_id": "2b731d30a1fd46008a8f76994426d087",
       "version_major": 2,
       "version_minor": 0
      },
      "text/plain": [
       "Map(center=[52.108736119738694, 19.430639807941635], controls=(WidgetControl(options=['position', 'transparent…"
      ]
     },
     "execution_count": 98,
     "metadata": {},
     "output_type": "execute_result"
    }
   ],
   "source": [
    "visualize_forest_change(2022)"
   ]
  },
  {
   "cell_type": "code",
   "execution_count": 9,
   "metadata": {},
   "outputs": [
    {
     "data": {
      "text/html": [
       "\n",
       "            <style>\n",
       "                .geemap-dark {\n",
       "                    --jp-widgets-color: white;\n",
       "                    --jp-widgets-label-color: white;\n",
       "                    --jp-ui-font-color1: white;\n",
       "                    --jp-layout-color2: #454545;\n",
       "                    background-color: #383838;\n",
       "                }\n",
       "\n",
       "                .geemap-dark .jupyter-button {\n",
       "                    --jp-layout-color3: #383838;\n",
       "                }\n",
       "\n",
       "                .geemap-colab {\n",
       "                    background-color: var(--colab-primary-surface-color, white);\n",
       "                }\n",
       "\n",
       "                .geemap-colab .jupyter-button {\n",
       "                    --jp-layout-color3: var(--colab-primary-surface-color, white);\n",
       "                }\n",
       "            </style>\n",
       "            "
      ],
      "text/plain": [
       "<IPython.core.display.HTML object>"
      ]
     },
     "metadata": {},
     "output_type": "display_data"
    },
    {
     "name": "stdout",
     "output_type": "stream",
     "text": [
      "Generating URL ...\n",
      "Downloading data from https://earthengine.googleapis.com/v1/projects/572709905565/tables/4aacc943d68dfb5e5814306715ad52aa-6c2e1d65650a60d094dccb1558ea3317:getFeatures\n",
      "Please wait ...\n",
      "Data downloaded to /Users/jakub/AI/Z24/GEO/pdp-forest-logging/forest_loss_2020.geojson\n"
     ]
    }
   ],
   "source": [
    "def export_forest_loss_to_geojson(year, output_file):\n",
    "    if year < 2001 or year > 2023:\n",
    "        raise ValueError(\"Podaj rok w zakresie od 2001 do 2023.\")\n",
    "\n",
    "    ee.Initialize()\n",
    "\n",
    "    poland = ee.FeatureCollection('FAO/GAUL/2015/level0') \\\n",
    "        .filter(ee.Filter.eq('ADM0_NAME', 'Poland'))\n",
    "    poland_geometry = poland.geometry()\n",
    "\n",
    "    hansen_data = ee.Image('UMD/hansen/global_forest_change_2023_v1_11')\n",
    "\n",
    "    #Straty lasu\n",
    "    loss = hansen_data.select('loss')\n",
    "    loss_year = hansen_data.select('lossyear')\n",
    "\n",
    "\n",
    "    loss_in_year = loss.updateMask(loss_year.eq(year - 2000))\n",
    "    loss_in_year_poland = loss_in_year.clip(poland_geometry)\n",
    "\n",
    "\n",
    "    loss_vector = loss_in_year_poland.reduceToVectors(\n",
    "        geometry=poland_geometry,\n",
    "        geometryType='polygon',\n",
    "        reducer=ee.Reducer.countEvery(),\n",
    "        scale=30,\n",
    "        maxPixels=1e9, \n",
    "        bestEffort=True \n",
    "    )\n",
    "\n",
    "    geemap.ee_export_vector(\n",
    "        ee_object=loss_vector,\n",
    "        filename=output_file\n",
    "    )\n",
    "export_forest_loss_to_geojson(2020, 'forest_loss_2020.geojson')\n"
   ]
  },
  {
   "cell_type": "markdown",
   "metadata": {},
   "source": [
    "## Klasyfikator"
   ]
  },
  {
   "cell_type": "code",
   "execution_count": 16,
   "metadata": {},
   "outputs": [
    {
     "data": {
      "text/html": [
       "\n",
       "            <style>\n",
       "                .geemap-dark {\n",
       "                    --jp-widgets-color: white;\n",
       "                    --jp-widgets-label-color: white;\n",
       "                    --jp-ui-font-color1: white;\n",
       "                    --jp-layout-color2: #454545;\n",
       "                    background-color: #383838;\n",
       "                }\n",
       "\n",
       "                .geemap-dark .jupyter-button {\n",
       "                    --jp-layout-color3: #383838;\n",
       "                }\n",
       "\n",
       "                .geemap-colab {\n",
       "                    background-color: var(--colab-primary-surface-color, white);\n",
       "                }\n",
       "\n",
       "                .geemap-colab .jupyter-button {\n",
       "                    --jp-layout-color3: var(--colab-primary-surface-color, white);\n",
       "                }\n",
       "            </style>\n",
       "            "
      ],
      "text/plain": [
       "<IPython.core.display.HTML object>"
      ]
     },
     "metadata": {},
     "output_type": "display_data"
    }
   ],
   "source": [
    "import ee\n",
    "import geemap\n",
    "import geopandas as gpd\n",
    "from tqdm import tqdm"
   ]
  },
  {
   "cell_type": "code",
   "execution_count": 199,
   "metadata": {},
   "outputs": [
    {
     "data": {
      "text/html": [
       "\n",
       "            <style>\n",
       "                .geemap-dark {\n",
       "                    --jp-widgets-color: white;\n",
       "                    --jp-widgets-label-color: white;\n",
       "                    --jp-ui-font-color1: white;\n",
       "                    --jp-layout-color2: #454545;\n",
       "                    background-color: #383838;\n",
       "                }\n",
       "\n",
       "                .geemap-dark .jupyter-button {\n",
       "                    --jp-layout-color3: #383838;\n",
       "                }\n",
       "\n",
       "                .geemap-colab {\n",
       "                    background-color: var(--colab-primary-surface-color, white);\n",
       "                }\n",
       "\n",
       "                .geemap-colab .jupyter-button {\n",
       "                    --jp-layout-color3: var(--colab-primary-surface-color, white);\n",
       "                }\n",
       "            </style>\n",
       "            "
      ],
      "text/plain": [
       "<IPython.core.display.HTML object>"
      ]
     },
     "metadata": {},
     "output_type": "display_data"
    }
   ],
   "source": [
    "MIN_DEFORESTATION_YEAR = 2016\n",
    "REFERENCE_YEAR = 2020\n",
    "FOREST_COVER_THRESHOLD = 25\n",
    "FOREST_PATCH_SIZE_M2 = 10000\n",
    "BOUNDING_BOX_BUFFER_METERS = 10000\n",
    "TRAINING_PATCH = ee.Geometry.Polygon([\n",
    "    [17.5, 51.5],\n",
    "    [17.5, 52.0],\n",
    "    [18.3, 52.0],\n",
    "    [18.3, 51.5],\n",
    "    [17.5, 51.5]\n",
    "])\n",
    "TRAIN_TEST_SPLIT = 0.7\n",
    "MIN_POINTS_PER_CLASS = 100\n"
   ]
  },
  {
   "cell_type": "code",
   "execution_count": 200,
   "metadata": {},
   "outputs": [
    {
     "data": {
      "text/html": [
       "\n",
       "            <style>\n",
       "                .geemap-dark {\n",
       "                    --jp-widgets-color: white;\n",
       "                    --jp-widgets-label-color: white;\n",
       "                    --jp-ui-font-color1: white;\n",
       "                    --jp-layout-color2: #454545;\n",
       "                    background-color: #383838;\n",
       "                }\n",
       "\n",
       "                .geemap-dark .jupyter-button {\n",
       "                    --jp-layout-color3: #383838;\n",
       "                }\n",
       "\n",
       "                .geemap-colab {\n",
       "                    background-color: var(--colab-primary-surface-color, white);\n",
       "                }\n",
       "\n",
       "                .geemap-colab .jupyter-button {\n",
       "                    --jp-layout-color3: var(--colab-primary-surface-color, white);\n",
       "                }\n",
       "            </style>\n",
       "            "
      ],
      "text/plain": [
       "<IPython.core.display.HTML object>"
      ]
     },
     "metadata": {},
     "output_type": "display_data"
    }
   ],
   "source": [
    "def create_labeled_image(region_geometry, min_deforestation_year, reference_year, forest_cover_threshold):\n",
    "    hansen_data = ee.Image(\"UMD/hansen/global_forest_change_2023_v1_11\").clip(region_geometry)\n",
    "    treecover = hansen_data.select(\"treecover2000\").gte(forest_cover_threshold)\n",
    "    lossyear = hansen_data.select(\"lossyear\")\n",
    "    loss_occurrence = lossyear.gt(0)\n",
    "    year_of_loss = lossyear.add(2000)\n",
    "    \n",
    "    class_forest = hansen_data.select(\"treecover2000\").gt(0)\n",
    "    \n",
    "    # Class 2: Forest AND deforested between min_deforestation_year and reference_year\n",
    "    class_recent_deforestation = (\n",
    "        treecover\n",
    "        .And(year_of_loss.gte(min_deforestation_year))\n",
    "        .And(year_of_loss.lte(reference_year))\n",
    "    ).selfMask().unmask(0)\n",
    "    \n",
    "    # Combine classes (mutually exclusive)\n",
    "    labeled = (\n",
    "        class_recent_deforestation.add(class_forest)\n",
    "    ).rename(\"land_class\")\n",
    "    \n",
    "    return labeled"
   ]
  },
  {
   "cell_type": "code",
   "execution_count": 201,
   "metadata": {},
   "outputs": [
    {
     "data": {
      "text/html": [
       "\n",
       "            <style>\n",
       "                .geemap-dark {\n",
       "                    --jp-widgets-color: white;\n",
       "                    --jp-widgets-label-color: white;\n",
       "                    --jp-ui-font-color1: white;\n",
       "                    --jp-layout-color2: #454545;\n",
       "                    background-color: #383838;\n",
       "                }\n",
       "\n",
       "                .geemap-dark .jupyter-button {\n",
       "                    --jp-layout-color3: #383838;\n",
       "                }\n",
       "\n",
       "                .geemap-colab {\n",
       "                    background-color: var(--colab-primary-surface-color, white);\n",
       "                }\n",
       "\n",
       "                .geemap-colab .jupyter-button {\n",
       "                    --jp-layout-color3: var(--colab-primary-surface-color, white);\n",
       "                }\n",
       "            </style>\n",
       "            "
      ],
      "text/plain": [
       "<IPython.core.display.HTML object>"
      ]
     },
     "metadata": {},
     "output_type": "display_data"
    },
    {
     "data": {
      "application/vnd.jupyter.widget-view+json": {
       "model_id": "88ea0c846d0848ea95137a7d96fa9967",
       "version_major": 2,
       "version_minor": 0
      },
      "text/plain": [
       "Map(center=[51.750217586909386, 17.899999999999842], controls=(WidgetControl(options=['position', 'transparent…"
      ]
     },
     "execution_count": 201,
     "metadata": {},
     "output_type": "execute_result"
    }
   ],
   "source": [
    "# plot a map with \"labeled\" results from previous cell\n",
    "labeled = create_labeled_image(\n",
    "    TRAINING_PATCH, MIN_DEFORESTATION_YEAR, REFERENCE_YEAR, FOREST_COVER_THRESHOLD\n",
    ")\n",
    "\n",
    "# show a map\n",
    "map = geemap.Map()\n",
    "\n",
    "map.centerObject(TRAINING_PATCH, 12)\n",
    "# map.addLayer(TRAINING_PATCH, {\"color\": \"blue\"}, \"Training Patch\")\n",
    "map.addLayer(labeled, {\"min\": 0, \"max\": 2, \"palette\": [\"black\", \"green\", \"red\"]})\n",
    "map"
   ]
  },
  {
   "cell_type": "code",
   "execution_count": 211,
   "metadata": {},
   "outputs": [
    {
     "data": {
      "text/html": [
       "\n",
       "            <style>\n",
       "                .geemap-dark {\n",
       "                    --jp-widgets-color: white;\n",
       "                    --jp-widgets-label-color: white;\n",
       "                    --jp-ui-font-color1: white;\n",
       "                    --jp-layout-color2: #454545;\n",
       "                    background-color: #383838;\n",
       "                }\n",
       "\n",
       "                .geemap-dark .jupyter-button {\n",
       "                    --jp-layout-color3: #383838;\n",
       "                }\n",
       "\n",
       "                .geemap-colab {\n",
       "                    background-color: var(--colab-primary-surface-color, white);\n",
       "                }\n",
       "\n",
       "                .geemap-colab .jupyter-button {\n",
       "                    --jp-layout-color3: var(--colab-primary-surface-color, white);\n",
       "                }\n",
       "            </style>\n",
       "            "
      ],
      "text/plain": [
       "<IPython.core.display.HTML object>"
      ]
     },
     "metadata": {},
     "output_type": "display_data"
    }
   ],
   "source": [
    "def extract_training_data(\n",
    "    region_geometry,\n",
    "    min_deforestation_year,\n",
    "    reference_year,\n",
    "    forest_cover_threshold,\n",
    "    train_test_split,\n",
    "):\n",
    "    labeled = create_labeled_image(\n",
    "        region_geometry, min_deforestation_year, reference_year, forest_cover_threshold\n",
    "    )\n",
    "    sat_image = (\n",
    "        ee.ImageCollection(\"COPERNICUS/S2\")\n",
    "        .filterDate(f\"{reference_year + 1}-06-01\", f\"{reference_year + 1}-08-31\")\n",
    "        .filterBounds(region_geometry)\n",
    "        .filter(ee.Filter.lt(\"CLOUDY_PIXEL_PERCENTAGE\", 20))\n",
    "        .median()\n",
    "        .clip(region_geometry)\n",
    "    )\n",
    "    merged = sat_image.addBands(labeled)\n",
    "    points_all = merged.sample(\n",
    "        region=region_geometry,\n",
    "        scale=30,\n",
    "        numPixels=50000,\n",
    "        seed=42,\n",
    "        tileScale=2,\n",
    "        geometries=True,\n",
    "    )\n",
    "\n",
    "    none_points = points_all.filter(ee.Filter.eq(\"land_class\", 0))\n",
    "    forest_points = points_all.filter(ee.Filter.eq(\"land_class\", 1))\n",
    "    deforest_points = points_all.filter(ee.Filter.eq(\"land_class\", 2))\n",
    "\n",
    "    none_count = none_points.size().getInfo()\n",
    "    forest_count = forest_points.size().getInfo()\n",
    "    deforest_count = deforest_points.size().getInfo()\n",
    "\n",
    "    min_count = min(none_count, forest_count, deforest_count)\n",
    "\n",
    "    none_points_limited = none_points.limit(min_count)\n",
    "    forest_points_limited = forest_points.limit(min_count)\n",
    "    deforest_points_limited = deforest_points.limit(min_count)\n",
    "\n",
    "    balanced_points = none_points_limited.merge(forest_points_limited).merge(\n",
    "        deforest_points_limited\n",
    "    )\n",
    "\n",
    "    print(\"Balanced points count:\", min_count, \"(per class)\")\n",
    "\n",
    "    points_with_random = balanced_points.randomColumn(\"random_value\", seed=42)\n",
    "    train_points = points_with_random.filter(\n",
    "        ee.Filter.lt(\"random_value\", train_test_split)\n",
    "    )\n",
    "    test_points = points_with_random.filter(\n",
    "        ee.Filter.gte(\"random_value\", train_test_split)\n",
    "    )\n",
    "\n",
    "    return sat_image, labeled, train_points, test_points"
   ]
  },
  {
   "cell_type": "code",
   "execution_count": 212,
   "metadata": {},
   "outputs": [
    {
     "data": {
      "text/html": [
       "\n",
       "            <style>\n",
       "                .geemap-dark {\n",
       "                    --jp-widgets-color: white;\n",
       "                    --jp-widgets-label-color: white;\n",
       "                    --jp-ui-font-color1: white;\n",
       "                    --jp-layout-color2: #454545;\n",
       "                    background-color: #383838;\n",
       "                }\n",
       "\n",
       "                .geemap-dark .jupyter-button {\n",
       "                    --jp-layout-color3: #383838;\n",
       "                }\n",
       "\n",
       "                .geemap-colab {\n",
       "                    background-color: var(--colab-primary-surface-color, white);\n",
       "                }\n",
       "\n",
       "                .geemap-colab .jupyter-button {\n",
       "                    --jp-layout-color3: var(--colab-primary-surface-color, white);\n",
       "                }\n",
       "            </style>\n",
       "            "
      ],
      "text/plain": [
       "<IPython.core.display.HTML object>"
      ]
     },
     "metadata": {},
     "output_type": "display_data"
    }
   ],
   "source": [
    "def show_training_samples(sat_image, hansen_data, labeled_image, train_points, test_points):\n",
    "    all_points = ee.FeatureCollection(train_points).merge(test_points)\n",
    "    color_mapped = all_points.map(\n",
    "        lambda f: f.set(\"style\", {\n",
    "            \"color\": ee.Algorithms.If(\n",
    "                f.getNumber(\"land_class\").eq(0),\n",
    "                \"grey\",\n",
    "                ee.Algorithms.If(\n",
    "                    f.getNumber(\"land_class\").eq(1),\n",
    "                    \"green\",\n",
    "                    \"orange\"\n",
    "                )\n",
    "            ),\n",
    "            \"pointSize\": 5\n",
    "        })\n",
    "    )\n",
    "    m = geemap.Map()\n",
    "    m.centerObject(all_points.geometry(), 8)\n",
    "    rgb_viz = {\"bands\": [\"B4\", \"B3\", \"B2\"], \"min\": 0, \"max\": 3000, \"gamma\": 1.2}\n",
    "    labeled_viz = {\"min\": 0, \"max\": 2, \"palette\": [\"grey\", \"green\", \"orange\"]}\n",
    "    hansen_lossyear_viz = {\"min\": 0, \"max\": 23, \"palette\": [\"black\", \"yellow\", \"red\"]}\n",
    "    m.addLayer(sat_image, rgb_viz, \"Sentinel\")\n",
    "    m.addLayer(hansen_data.select(\"lossyear\"), hansen_lossyear_viz, \"Hansen Loss Year\")\n",
    "    m.addLayer(labeled_image, labeled_viz, \"Labeled Ground Truth\")\n",
    "    m.addLayer(color_mapped.style(**{\"styleProperty\": \"style\"}), {}, \"Train/Test Points\")\n",
    "    return m\n"
   ]
  },
  {
   "cell_type": "code",
   "execution_count": 213,
   "metadata": {},
   "outputs": [
    {
     "data": {
      "text/html": [
       "\n",
       "            <style>\n",
       "                .geemap-dark {\n",
       "                    --jp-widgets-color: white;\n",
       "                    --jp-widgets-label-color: white;\n",
       "                    --jp-ui-font-color1: white;\n",
       "                    --jp-layout-color2: #454545;\n",
       "                    background-color: #383838;\n",
       "                }\n",
       "\n",
       "                .geemap-dark .jupyter-button {\n",
       "                    --jp-layout-color3: #383838;\n",
       "                }\n",
       "\n",
       "                .geemap-colab {\n",
       "                    background-color: var(--colab-primary-surface-color, white);\n",
       "                }\n",
       "\n",
       "                .geemap-colab .jupyter-button {\n",
       "                    --jp-layout-color3: var(--colab-primary-surface-color, white);\n",
       "                }\n",
       "            </style>\n",
       "            "
      ],
      "text/plain": [
       "<IPython.core.display.HTML object>"
      ]
     },
     "metadata": {},
     "output_type": "display_data"
    }
   ],
   "source": [
    "def train_classifier(train_points, test_points, bands, classifier=None):\n",
    "    print(\"Trenuję klasyfikator...\")\n",
    "    if classifier is None:\n",
    "        classifier = ee.Classifier.smileRandomForest(numberOfTrees=50)\n",
    "    classifier = classifier.train(\n",
    "        features=train_points, classProperty=\"land_class\", inputProperties=bands\n",
    "    )\n",
    "    print(\"Obliczam metryki treningowe...\")\n",
    "    train_pred = train_points.classify(classifier)\n",
    "    conf_matrix_train = train_pred.errorMatrix(\"land_class\", \"classification\")\n",
    "    print(\"Macierz błędów (train):\", conf_matrix_train.getInfo())\n",
    "    print(\"Dokładność (train):\", conf_matrix_train.accuracy().getInfo())\n",
    "    print(\"Obliczam metryki testowe...\")\n",
    "    test_pred = test_points.classify(classifier)\n",
    "    conf_matrix_test = test_pred.errorMatrix(\"land_class\", \"classification\")\n",
    "    print(\"Macierz błędów (test):\", conf_matrix_test.getInfo())\n",
    "    print(\"Dokładność (test):\", conf_matrix_test.accuracy().getInfo())\n",
    "    return classifier"
   ]
  },
  {
   "cell_type": "code",
   "execution_count": 214,
   "metadata": {},
   "outputs": [
    {
     "data": {
      "text/html": [
       "\n",
       "            <style>\n",
       "                .geemap-dark {\n",
       "                    --jp-widgets-color: white;\n",
       "                    --jp-widgets-label-color: white;\n",
       "                    --jp-ui-font-color1: white;\n",
       "                    --jp-layout-color2: #454545;\n",
       "                    background-color: #383838;\n",
       "                }\n",
       "\n",
       "                .geemap-dark .jupyter-button {\n",
       "                    --jp-layout-color3: #383838;\n",
       "                }\n",
       "\n",
       "                .geemap-colab {\n",
       "                    background-color: var(--colab-primary-surface-color, white);\n",
       "                }\n",
       "\n",
       "                .geemap-colab .jupyter-button {\n",
       "                    --jp-layout-color3: var(--colab-primary-surface-color, white);\n",
       "                }\n",
       "            </style>\n",
       "            "
      ],
      "text/plain": [
       "<IPython.core.display.HTML object>"
      ]
     },
     "metadata": {},
     "output_type": "display_data"
    }
   ],
   "source": [
    "def classify_and_display_results(classifier, bands, bounding_box_buffer_m, reference_year, forest_cover_threshold):\n",
    "    print(\"Wczytuję dane i generuję klasyfikację dla całej Polski...\")\n",
    "    poland = ee.FeatureCollection(\"FAO/GAUL/2015/level0\").filter(ee.Filter.eq(\"ADM0_NAME\", \"Poland\")).first()\n",
    "    bbox = poland.geometry().bounds().buffer(bounding_box_buffer_m)\n",
    "    poland_clipped = ee.Feature(poland).geometry().intersection(bbox)\n",
    "    hansen_data = ee.Image(\"UMD/hansen/global_forest_change_2023_v1_11\").clip(poland_clipped)\n",
    "    sat_image = (\n",
    "        ee.ImageCollection(\"COPERNICUS/S2\")\n",
    "        .filterDate(f\"{reference_year + 1}-06-01\", f\"{reference_year + 1}-08-31\")\n",
    "        .filterBounds(poland_clipped)\n",
    "        .filter(ee.Filter.lt(\"CLOUDY_PIXEL_PERCENTAGE\", 20))\n",
    "        .median()\n",
    "        .clip(poland_clipped)\n",
    "    )\n",
    "    classified = sat_image.select(bands).classify(classifier).rename(\"classified\")\n",
    "    m = geemap.Map()\n",
    "    m.centerObject(ee.FeatureCollection([poland]).geometry(), 6)\n",
    "    m.add_basemap(\"OpenStreetMap\")\n",
    "    rgb_viz = {\"bands\": [\"B4\", \"B3\", \"B2\"], \"min\": 0, \"max\": 3000, \"gamma\": 1.2}\n",
    "    class_viz = {\"min\": 0, \"max\": 2, \"palette\": [\"grey\", \"green\", \"orange\"]}\n",
    "    m.addLayer(sat_image, rgb_viz, \"Obraz Sentinel\")\n",
    "    m.addLayer(classified, class_viz, \"Klasyfikacja\")\n",
    "    m.addLayer(hansen_data.select(\"lossyear\"), {\"min\": 0, \"max\": 23, \"palette\": [\"black\", \"yellow\", \"red\"]}, \"Hansen Loss Year\")\n",
    "    forest_mask = hansen_data.select(\"treecover2000\").gte(forest_cover_threshold).selfMask()\n",
    "    m.addLayer(forest_mask, {\"palette\": [\"green\"]}, \"Hansen Forest 2000\")\n",
    "    return m\n"
   ]
  },
  {
   "cell_type": "code",
   "execution_count": 215,
   "metadata": {},
   "outputs": [
    {
     "data": {
      "text/html": [
       "\n",
       "            <style>\n",
       "                .geemap-dark {\n",
       "                    --jp-widgets-color: white;\n",
       "                    --jp-widgets-label-color: white;\n",
       "                    --jp-ui-font-color1: white;\n",
       "                    --jp-layout-color2: #454545;\n",
       "                    background-color: #383838;\n",
       "                }\n",
       "\n",
       "                .geemap-dark .jupyter-button {\n",
       "                    --jp-layout-color3: #383838;\n",
       "                }\n",
       "\n",
       "                .geemap-colab {\n",
       "                    background-color: var(--colab-primary-surface-color, white);\n",
       "                }\n",
       "\n",
       "                .geemap-colab .jupyter-button {\n",
       "                    --jp-layout-color3: var(--colab-primary-surface-color, white);\n",
       "                }\n",
       "            </style>\n",
       "            "
      ],
      "text/plain": [
       "<IPython.core.display.HTML object>"
      ]
     },
     "metadata": {},
     "output_type": "display_data"
    },
    {
     "name": "stdout",
     "output_type": "stream",
     "text": [
      "Balanced points count: 520 (per class)\n"
     ]
    }
   ],
   "source": [
    "poland_fc = ee.FeatureCollection(\"FAO/GAUL/2015/level0\").filter(ee.Filter.eq(\"ADM0_NAME\", \"Poland\"))\n",
    "region_for_training = poland_fc.geometry().intersection(TRAINING_PATCH)\n",
    "sat_image, labeled_image, train_points, test_points = extract_training_data(\n",
    "    region_for_training,\n",
    "    MIN_DEFORESTATION_YEAR,\n",
    "    REFERENCE_YEAR,\n",
    "    FOREST_COVER_THRESHOLD,\n",
    "    TRAIN_TEST_SPLIT\n",
    ")\n",
    "hansen_data = ee.Image(\"UMD/hansen/global_forest_change_2023_v1_11\").clip(region_for_training)\n"
   ]
  },
  {
   "cell_type": "code",
   "execution_count": 216,
   "metadata": {},
   "outputs": [
    {
     "data": {
      "text/html": [
       "\n",
       "            <style>\n",
       "                .geemap-dark {\n",
       "                    --jp-widgets-color: white;\n",
       "                    --jp-widgets-label-color: white;\n",
       "                    --jp-ui-font-color1: white;\n",
       "                    --jp-layout-color2: #454545;\n",
       "                    background-color: #383838;\n",
       "                }\n",
       "\n",
       "                .geemap-dark .jupyter-button {\n",
       "                    --jp-layout-color3: #383838;\n",
       "                }\n",
       "\n",
       "                .geemap-colab {\n",
       "                    background-color: var(--colab-primary-surface-color, white);\n",
       "                }\n",
       "\n",
       "                .geemap-colab .jupyter-button {\n",
       "                    --jp-layout-color3: var(--colab-primary-surface-color, white);\n",
       "                }\n",
       "            </style>\n",
       "            "
      ],
      "text/plain": [
       "<IPython.core.display.HTML object>"
      ]
     },
     "metadata": {},
     "output_type": "display_data"
    },
    {
     "data": {
      "application/vnd.jupyter.widget-view+json": {
       "model_id": "30b6d13c7dfb4c01975f39a3319badd4",
       "version_major": 2,
       "version_minor": 0
      },
      "text/plain": [
       "Map(center=[51.73623497039189, 17.908811754919995], controls=(WidgetControl(options=['position', 'transparent_…"
      ]
     },
     "execution_count": 216,
     "metadata": {},
     "output_type": "execute_result"
    }
   ],
   "source": [
    "map_samples = show_training_samples(sat_image, hansen_data, labeled_image, train_points, test_points)\n",
    "map_samples"
   ]
  },
  {
   "cell_type": "code",
   "execution_count": 219,
   "metadata": {},
   "outputs": [
    {
     "data": {
      "text/html": [
       "\n",
       "            <style>\n",
       "                .geemap-dark {\n",
       "                    --jp-widgets-color: white;\n",
       "                    --jp-widgets-label-color: white;\n",
       "                    --jp-ui-font-color1: white;\n",
       "                    --jp-layout-color2: #454545;\n",
       "                    background-color: #383838;\n",
       "                }\n",
       "\n",
       "                .geemap-dark .jupyter-button {\n",
       "                    --jp-layout-color3: #383838;\n",
       "                }\n",
       "\n",
       "                .geemap-colab {\n",
       "                    background-color: var(--colab-primary-surface-color, white);\n",
       "                }\n",
       "\n",
       "                .geemap-colab .jupyter-button {\n",
       "                    --jp-layout-color3: var(--colab-primary-surface-color, white);\n",
       "                }\n",
       "            </style>\n",
       "            "
      ],
      "text/plain": [
       "<IPython.core.display.HTML object>"
      ]
     },
     "metadata": {},
     "output_type": "display_data"
    },
    {
     "name": "stdout",
     "output_type": "stream",
     "text": [
      "Trenuję model...\n",
      "==================== SVM ====================\n",
      "Trenuję klasyfikator...\n",
      "Obliczam metryki treningowe...\n",
      "Macierz błędów (train): [[257, 88, 11], [30, 325, 23], [22, 118, 241]]\n",
      "Dokładność (train): 0.7381165919282511\n",
      "Obliczam metryki testowe...\n",
      "Macierz błędów (test): [[116, 41, 7], [8, 123, 11], [9, 48, 82]]\n",
      "Dokładność (test): 0.7213483146067415\n",
      "============================================================\n",
      "==================== Naive Bayes ====================\n",
      "Trenuję klasyfikator...\n",
      "Obliczam metryki treningowe...\n",
      "Macierz błędów (train): [[176, 125, 55], [23, 310, 45], [12, 158, 211]]\n",
      "Dokładność (train): 0.6251121076233184\n",
      "Obliczam metryki testowe...\n",
      "Macierz błędów (test): [[82, 59, 23], [6, 123, 13], [3, 53, 83]]\n",
      "Dokładność (test): 0.647191011235955\n",
      "============================================================\n",
      "==================== Random Forest n=50 ====================\n",
      "Trenuję klasyfikator...\n",
      "Obliczam metryki treningowe...\n",
      "Macierz błędów (train): [[355, 0, 1], [7, 368, 3], [2, 3, 376]]\n",
      "Dokładność (train): 0.9856502242152466\n",
      "Obliczam metryki testowe...\n",
      "Macierz błędów (test): [[139, 10, 15], [8, 102, 32], [10, 24, 105]]\n",
      "Dokładność (test): 0.7775280898876404\n",
      "============================================================\n",
      "==================== Random Forest n=100 ====================\n",
      "Trenuję klasyfikator...\n",
      "Obliczam metryki treningowe...\n",
      "Macierz błędów (train): [[355, 1, 0], [4, 373, 1], [2, 1, 378]]\n",
      "Dokładność (train): 0.9919282511210762\n",
      "Obliczam metryki testowe...\n",
      "Macierz błędów (test): [[141, 9, 14], [8, 104, 30], [10, 24, 105]]\n",
      "Dokładność (test): 0.7865168539325843\n",
      "============================================================\n",
      "==================== Random Forest n=200 ====================\n",
      "Trenuję klasyfikator...\n",
      "Obliczam metryki treningowe...\n",
      "Macierz błędów (train): [[355, 1, 0], [1, 377, 0], [0, 1, 380]]\n",
      "Dokładność (train): 0.9973094170403587\n",
      "Obliczam metryki testowe...\n",
      "Macierz błędów (test): [[140, 10, 14], [8, 103, 31], [9, 23, 107]]\n",
      "Dokładność (test): 0.7865168539325843\n",
      "============================================================\n",
      "==================== Gradient Tree Boosting n=50 ====================\n",
      "Trenuję klasyfikator...\n",
      "Obliczam metryki treningowe...\n",
      "Macierz błędów (train): [[343, 6, 7], [18, 346, 14], [7, 17, 357]]\n",
      "Dokładność (train): 0.9381165919282511\n",
      "Obliczam metryki testowe...\n",
      "Macierz błędów (test): [[141, 9, 14], [11, 103, 28], [9, 27, 103]]\n",
      "Dokładność (test): 0.7797752808988764\n",
      "============================================================\n",
      "==================== Gradient Tree Boosting n=100 ====================\n",
      "Trenuję klasyfikator...\n",
      "Obliczam metryki treningowe...\n",
      "Macierz błędów (train): [[344, 6, 6], [14, 351, 13], [7, 13, 361]]\n",
      "Dokładność (train): 0.947085201793722\n",
      "Obliczam metryki testowe...\n",
      "Macierz błędów (test): [[141, 10, 13], [11, 101, 30], [9, 27, 103]]\n",
      "Dokładność (test): 0.7752808988764045\n",
      "============================================================\n",
      "==================== Gradient Tree Boosting n=200 ====================\n",
      "Trenuję klasyfikator...\n",
      "Obliczam metryki treningowe...\n",
      "Macierz błędów (train): [[346, 5, 5], [7, 365, 6], [4, 9, 368]]\n",
      "Dokładność (train): 0.967713004484305\n",
      "Obliczam metryki testowe...\n",
      "Macierz błędów (test): [[140, 10, 14], [11, 102, 29], [9, 26, 104]]\n",
      "Dokładność (test): 0.7775280898876404\n",
      "============================================================\n"
     ]
    }
   ],
   "source": [
    "print(\"Trenuję model...\")\n",
    "bands = sat_image.bandNames().getInfo()\n",
    "\n",
    "classifiers = {\n",
    "    \"SVM\": ee.Classifier.libsvm(),\n",
    "    \"Naive Bayes\": ee.Classifier.smileNaiveBayes(),\n",
    "    \"Random Forest n=50\": ee.Classifier.smileRandomForest(numberOfTrees=50),\n",
    "    \"Random Forest n=100\": ee.Classifier.smileRandomForest(numberOfTrees=100),\n",
    "    \"Random Forest n=200\": ee.Classifier.smileRandomForest(numberOfTrees=200),\n",
    "    \"Gradient Tree Boosting n=50\": ee.Classifier.smileGradientTreeBoost(\n",
    "        numberOfTrees=50\n",
    "    ),\n",
    "    \"Gradient Tree Boosting n=100\": ee.Classifier.smileGradientTreeBoost(\n",
    "        numberOfTrees=100\n",
    "    ),\n",
    "    \"Gradient Tree Boosting n=200\": ee.Classifier.smileGradientTreeBoost(\n",
    "        numberOfTrees=200\n",
    "    ),\n",
    "}\n",
    "\n",
    "for classifier_name in classifiers.keys():\n",
    "    print(f\"==================== {classifier_name} ====================\")\n",
    "    classifiers[classifier_name] = train_classifier(\n",
    "        train_points, test_points, bands, classifiers[classifier_name]\n",
    "    )\n",
    "    print(\"============================================================\")"
   ]
  },
  {
   "cell_type": "code",
   "execution_count": 221,
   "metadata": {},
   "outputs": [
    {
     "data": {
      "text/html": [
       "\n",
       "            <style>\n",
       "                .geemap-dark {\n",
       "                    --jp-widgets-color: white;\n",
       "                    --jp-widgets-label-color: white;\n",
       "                    --jp-ui-font-color1: white;\n",
       "                    --jp-layout-color2: #454545;\n",
       "                    background-color: #383838;\n",
       "                }\n",
       "\n",
       "                .geemap-dark .jupyter-button {\n",
       "                    --jp-layout-color3: #383838;\n",
       "                }\n",
       "\n",
       "                .geemap-colab {\n",
       "                    background-color: var(--colab-primary-surface-color, white);\n",
       "                }\n",
       "\n",
       "                .geemap-colab .jupyter-button {\n",
       "                    --jp-layout-color3: var(--colab-primary-surface-color, white);\n",
       "                }\n",
       "            </style>\n",
       "            "
      ],
      "text/plain": [
       "<IPython.core.display.HTML object>"
      ]
     },
     "metadata": {},
     "output_type": "display_data"
    },
    {
     "name": "stdout",
     "output_type": "stream",
     "text": [
      "Klasyfikuję i wyświetlam wyniki dla całej Polski...\n",
      "Wczytuję dane i generuję klasyfikację dla całej Polski...\n"
     ]
    },
    {
     "data": {
      "application/vnd.jupyter.widget-view+json": {
       "model_id": "e4c691cdb1ff403584359cbf7b2342d1",
       "version_major": 2,
       "version_minor": 0
      },
      "text/plain": [
       "Map(center=[52.108736119738694, 19.430639807941635], controls=(WidgetControl(options=['position', 'transparent…"
      ]
     },
     "execution_count": 221,
     "metadata": {},
     "output_type": "execute_result"
    }
   ],
   "source": [
    "print(\"Klasyfikuję i wyświetlam wyniki dla całej Polski...\")\n",
    "classification_map = classify_and_display_results(\n",
    "    classifiers[\"Random Forest n=100\"],\n",
    "    bands,\n",
    "    BOUNDING_BOX_BUFFER_METERS,\n",
    "    REFERENCE_YEAR,\n",
    "    FOREST_COVER_THRESHOLD\n",
    ")\n",
    "classification_map\n"
   ]
  }
 ],
 "metadata": {
  "kernelspec": {
   "display_name": "venv",
   "language": "python",
   "name": "python3"
  },
  "language_info": {
   "codemirror_mode": {
    "name": "ipython",
    "version": 3
   },
   "file_extension": ".py",
   "mimetype": "text/x-python",
   "name": "python",
   "nbconvert_exporter": "python",
   "pygments_lexer": "ipython3",
   "version": "3.11.10"
  }
 },
 "nbformat": 4,
 "nbformat_minor": 2
}
