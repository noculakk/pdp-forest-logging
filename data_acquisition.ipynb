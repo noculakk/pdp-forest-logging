{
 "cells": [
  {
   "cell_type": "markdown",
   "metadata": {},
   "source": [
    "# PDP / Forest Logging Detection"
   ]
  },
  {
   "cell_type": "code",
   "execution_count": 1,
   "metadata": {},
   "outputs": [],
   "source": [
    "import ee\n",
    "import geemap\n",
    "import geopandas as gpd"
   ]
  },
  {
   "cell_type": "markdown",
   "metadata": {},
   "source": [
    "## 1. Prezentacja danych ground truth"
   ]
  },
  {
   "cell_type": "code",
   "execution_count": 2,
   "metadata": {},
   "outputs": [
    {
     "data": {
      "text/html": [
       "\n",
       "            <style>\n",
       "                .geemap-dark {\n",
       "                    --jp-widgets-color: white;\n",
       "                    --jp-widgets-label-color: white;\n",
       "                    --jp-ui-font-color1: white;\n",
       "                    --jp-layout-color2: #454545;\n",
       "                    background-color: #383838;\n",
       "                }\n",
       "\n",
       "                .geemap-dark .jupyter-button {\n",
       "                    --jp-layout-color3: #383838;\n",
       "                }\n",
       "\n",
       "                .geemap-colab {\n",
       "                    background-color: var(--colab-primary-surface-color, white);\n",
       "                }\n",
       "\n",
       "                .geemap-colab .jupyter-button {\n",
       "                    --jp-layout-color3: var(--colab-primary-surface-color, white);\n",
       "                }\n",
       "            </style>\n",
       "            "
      ],
      "text/plain": [
       "<IPython.core.display.HTML object>"
      ]
     },
     "metadata": {},
     "output_type": "display_data"
    },
    {
     "data": {
      "text/html": [
       "<p>To authorize access needed by Earth Engine, open the following\n",
       "        URL in a web browser and follow the instructions:</p>\n",
       "        <p><a href=https://code.earthengine.google.com/client-auth?scopes=https%3A//www.googleapis.com/auth/earthengine%20https%3A//www.googleapis.com/auth/cloud-platform%20https%3A//www.googleapis.com/auth/devstorage.full_control&request_id=Dd7U1lZzHKCq_SmOH6YgBKwNS8XVTfpUmsFVlBsJ7hw&tc=sH9kMYJnT1XDiE-1xDEl5WRVlT5_5wiSPrvd41pq0rE&cc=Evu6rU586h7BukSoTzUMy8A_YRjmdyLcaZ-laDkoaE8>https://code.earthengine.google.com/client-auth?scopes=https%3A//www.googleapis.com/auth/earthengine%20https%3A//www.googleapis.com/auth/cloud-platform%20https%3A//www.googleapis.com/auth/devstorage.full_control&request_id=Dd7U1lZzHKCq_SmOH6YgBKwNS8XVTfpUmsFVlBsJ7hw&tc=sH9kMYJnT1XDiE-1xDEl5WRVlT5_5wiSPrvd41pq0rE&cc=Evu6rU586h7BukSoTzUMy8A_YRjmdyLcaZ-laDkoaE8</a></p>\n",
       "        <p>The authorization workflow will generate a code, which you should paste in the box below.</p>\n",
       "        "
      ],
      "text/plain": [
       "<IPython.core.display.HTML object>"
      ]
     },
     "metadata": {},
     "output_type": "display_data"
    },
    {
     "name": "stderr",
     "output_type": "stream",
     "text": [
      "Unable to connect to VS Code server: Error in request.\n",
      "Error: connect ENOENT /run/user/115586/vscode-ipc-166b8b18-2c6f-4bf3-a654-e6a86d6ca165.sock\n",
      "\u001b[90m    at PipeConnectWrap.afterConnect [as oncomplete] (node:net:1606:16)\u001b[39m {\n",
      "  errno: \u001b[33m-2\u001b[39m,\n",
      "  code: \u001b[32m'ENOENT'\u001b[39m,\n",
      "  syscall: \u001b[32m'connect'\u001b[39m,\n",
      "  address: \u001b[32m'/run/user/115586/vscode-ipc-166b8b18-2c6f-4bf3-a654-e6a86d6ca165.sock'\u001b[39m\n",
      "}\n"
     ]
    },
    {
     "name": "stdout",
     "output_type": "stream",
     "text": [
      "\n",
      "Successfully saved authorization token.\n"
     ]
    }
   ],
   "source": [
    "ee.Authenticate() \n",
    "ee.Initialize()"
   ]
  },
  {
   "cell_type": "code",
   "execution_count": 3,
   "metadata": {},
   "outputs": [
    {
     "data": {
      "text/html": [
       "\n",
       "            <style>\n",
       "                .geemap-dark {\n",
       "                    --jp-widgets-color: white;\n",
       "                    --jp-widgets-label-color: white;\n",
       "                    --jp-ui-font-color1: white;\n",
       "                    --jp-layout-color2: #454545;\n",
       "                    background-color: #383838;\n",
       "                }\n",
       "\n",
       "                .geemap-dark .jupyter-button {\n",
       "                    --jp-layout-color3: #383838;\n",
       "                }\n",
       "\n",
       "                .geemap-colab {\n",
       "                    background-color: var(--colab-primary-surface-color, white);\n",
       "                }\n",
       "\n",
       "                .geemap-colab .jupyter-button {\n",
       "                    --jp-layout-color3: var(--colab-primary-surface-color, white);\n",
       "                }\n",
       "            </style>\n",
       "            "
      ],
      "text/plain": [
       "<IPython.core.display.HTML object>"
      ]
     },
     "metadata": {},
     "output_type": "display_data"
    }
   ],
   "source": [
    "def visualize_forest_change(year):\n",
    "    if year < 2001 or year > 2023:\n",
    "        raise ValueError(\"Podaj rok w zakresie od 2001 do 2023.\")\n",
    "    ee.Initialize()\n",
    "\n",
    "    poland = ee.FeatureCollection(\"FAO/GAUL/2015/level0\").filter(\n",
    "        ee.Filter.eq(\"ADM0_NAME\", \"Poland\")\n",
    "    )\n",
    "\n",
    "    hansen_data = ee.Image(\"UMD/hansen/global_forest_change_2023_v1_11\")\n",
    "\n",
    "    loss = hansen_data.select(\"loss\")\n",
    "    loss_year = hansen_data.select(\"lossyear\")\n",
    "    # Filtr strat lasu dla wybranego roku\n",
    "    loss_in_year = loss.updateMask(loss_year.eq(year - 2000))\n",
    "    loss_in_year_poland = loss_in_year.clip(poland)\n",
    "\n",
    "    satellite_data_following_year = (\n",
    "        ee.ImageCollection(\"COPERNICUS/S2\")\n",
    "        .filterDate(f\"{year + 1}-06-01\", f\"{year + 1}-08-31\")\n",
    "        .filterBounds(poland)\n",
    "        .filter(ee.Filter.lt(\"CLOUDY_PIXEL_PERCENTAGE\", 20))\n",
    "        .median()\n",
    "        .clip(poland)\n",
    "    )\n",
    "\n",
    "    satellite_data_previous_year = (\n",
    "        ee.ImageCollection(\"COPERNICUS/S2\")\n",
    "        .filterDate(f\"{year - 1}-06-01\", f\"{year - 1}-08-31\")\n",
    "        .filterBounds(poland)\n",
    "        .filter(ee.Filter.lt(\"CLOUDY_PIXEL_PERCENTAGE\", 20))\n",
    "        .median()\n",
    "        .clip(poland)\n",
    "    )\n",
    "\n",
    "    # ustalenie obszaru zalesionego\n",
    "    forest_cover = hansen_data.select(\"treecover2000\").clip(poland).gte(25).selfMask()\n",
    "    # .And(\n",
    "    #     hansen_data \\\n",
    "    #         .select('lossyear') \\\n",
    "    #         .gt(year - 2000) \\\n",
    "    #         .Or(hansen_data.select('lossyear').eq(0))\n",
    "    # )\n",
    "\n",
    "    loss_viz = {\"min\": 0, \"max\": 1, \"palette\": [\"red\"]}\n",
    "    satellite_viz = {\"bands\": [\"B4\", \"B3\", \"B2\"], \"min\": 0, \"max\": 3000, \"gamma\": 1.2}\n",
    "\n",
    "    map = geemap.Map()\n",
    "    map.centerObject(poland, 6)  # Przybliżenie na Polskę\n",
    "    map.addLayer(satellite_data_following_year, satellite_viz, f\"SAT {year + 1}\")\n",
    "    map.addLayer(satellite_data_previous_year, satellite_viz, f\"SAT {year - 1}\")\n",
    "    map.addLayer(loss_in_year_poland, loss_viz, f\"Straty lasu w {year}\")\n",
    "    map.addLayer(poland, {\"color\": \"blue\"}, \"Granice Polski\")\n",
    "    map.addLayer(forest_cover, {\"palette\": [\"green\"]}, \"Obszary leśne\")\n",
    "\n",
    "    return map"
   ]
  },
  {
   "cell_type": "code",
   "execution_count": 4,
   "metadata": {},
   "outputs": [
    {
     "data": {
      "text/html": [
       "\n",
       "            <style>\n",
       "                .geemap-dark {\n",
       "                    --jp-widgets-color: white;\n",
       "                    --jp-widgets-label-color: white;\n",
       "                    --jp-ui-font-color1: white;\n",
       "                    --jp-layout-color2: #454545;\n",
       "                    background-color: #383838;\n",
       "                }\n",
       "\n",
       "                .geemap-dark .jupyter-button {\n",
       "                    --jp-layout-color3: #383838;\n",
       "                }\n",
       "\n",
       "                .geemap-colab {\n",
       "                    background-color: var(--colab-primary-surface-color, white);\n",
       "                }\n",
       "\n",
       "                .geemap-colab .jupyter-button {\n",
       "                    --jp-layout-color3: var(--colab-primary-surface-color, white);\n",
       "                }\n",
       "            </style>\n",
       "            "
      ],
      "text/plain": [
       "<IPython.core.display.HTML object>"
      ]
     },
     "metadata": {},
     "output_type": "display_data"
    },
    {
     "name": "stderr",
     "output_type": "stream",
     "text": [
      "/net/tscratch/people/plgknoculak/venv/lib/python3.11/site-packages/ee/deprecation.py:207: DeprecationWarning: \n",
      "\n",
      "Attention required for COPERNICUS/S2! You are using a deprecated asset.\n",
      "To ensure continued functionality, please update it.\n",
      "Learn more: https://developers.google.com/earth-engine/datasets/catalog/COPERNICUS_S2\n",
      "\n",
      "  warnings.warn(warning, category=DeprecationWarning)\n"
     ]
    },
    {
     "data": {
      "application/vnd.jupyter.widget-view+json": {
       "model_id": "d114408be9a7447a9e92f3292b54d0c0",
       "version_major": 2,
       "version_minor": 0
      },
      "text/plain": [
       "Map(center=[52.108736119738694, 19.430639807941635], controls=(WidgetControl(options=['position', 'transparent…"
      ]
     },
     "execution_count": 4,
     "metadata": {},
     "output_type": "execute_result"
    }
   ],
   "source": [
    "visualize_forest_change(2022)"
   ]
  },
  {
   "cell_type": "code",
   "execution_count": 5,
   "metadata": {},
   "outputs": [
    {
     "data": {
      "text/html": [
       "\n",
       "            <style>\n",
       "                .geemap-dark {\n",
       "                    --jp-widgets-color: white;\n",
       "                    --jp-widgets-label-color: white;\n",
       "                    --jp-ui-font-color1: white;\n",
       "                    --jp-layout-color2: #454545;\n",
       "                    background-color: #383838;\n",
       "                }\n",
       "\n",
       "                .geemap-dark .jupyter-button {\n",
       "                    --jp-layout-color3: #383838;\n",
       "                }\n",
       "\n",
       "                .geemap-colab {\n",
       "                    background-color: var(--colab-primary-surface-color, white);\n",
       "                }\n",
       "\n",
       "                .geemap-colab .jupyter-button {\n",
       "                    --jp-layout-color3: var(--colab-primary-surface-color, white);\n",
       "                }\n",
       "            </style>\n",
       "            "
      ],
      "text/plain": [
       "<IPython.core.display.HTML object>"
      ]
     },
     "metadata": {},
     "output_type": "display_data"
    },
    {
     "name": "stdout",
     "output_type": "stream",
     "text": [
      "Generating URL ...\n",
      "Downloading data from https://earthengine.googleapis.com/v1/projects/572709905565/tables/4aacc943d68dfb5e5814306715ad52aa-78ecb92045390bb2c816d5f744785408:getFeatures\n",
      "Please wait ...\n",
      "Data downloaded to /net/people/plgrid/plgknoculak/pdp-forest-logging/forest_loss_2020.geojson\n"
     ]
    }
   ],
   "source": [
    "def export_forest_loss_to_geojson(year, output_file):\n",
    "    if year < 2001 or year > 2023:\n",
    "        raise ValueError(\"Podaj rok w zakresie od 2001 do 2023.\")\n",
    "\n",
    "    ee.Initialize()\n",
    "\n",
    "    poland = ee.FeatureCollection('FAO/GAUL/2015/level0') \\\n",
    "        .filter(ee.Filter.eq('ADM0_NAME', 'Poland'))\n",
    "    poland_geometry = poland.geometry()\n",
    "\n",
    "    hansen_data = ee.Image('UMD/hansen/global_forest_change_2023_v1_11')\n",
    "\n",
    "    #Straty lasu\n",
    "    loss = hansen_data.select('loss')\n",
    "    loss_year = hansen_data.select('lossyear')\n",
    "\n",
    "\n",
    "    loss_in_year = loss.updateMask(loss_year.eq(year - 2000))\n",
    "    loss_in_year_poland = loss_in_year.clip(poland_geometry)\n",
    "\n",
    "\n",
    "    loss_vector = loss_in_year_poland.reduceToVectors(\n",
    "        geometry=poland_geometry,\n",
    "        geometryType='polygon',\n",
    "        reducer=ee.Reducer.countEvery(),\n",
    "        scale=30,\n",
    "        maxPixels=1e9, \n",
    "        bestEffort=True \n",
    "    )\n",
    "\n",
    "    geemap.ee_export_vector(\n",
    "        ee_object=loss_vector,\n",
    "        filename=output_file\n",
    "    )\n",
    "export_forest_loss_to_geojson(2020, 'forest_loss_2020.geojson')\n"
   ]
  },
  {
   "cell_type": "markdown",
   "metadata": {},
   "source": [
    "## 2. Klasyfikator"
   ]
  },
  {
   "cell_type": "code",
   "execution_count": 6,
   "metadata": {},
   "outputs": [
    {
     "data": {
      "text/html": [
       "\n",
       "            <style>\n",
       "                .geemap-dark {\n",
       "                    --jp-widgets-color: white;\n",
       "                    --jp-widgets-label-color: white;\n",
       "                    --jp-ui-font-color1: white;\n",
       "                    --jp-layout-color2: #454545;\n",
       "                    background-color: #383838;\n",
       "                }\n",
       "\n",
       "                .geemap-dark .jupyter-button {\n",
       "                    --jp-layout-color3: #383838;\n",
       "                }\n",
       "\n",
       "                .geemap-colab {\n",
       "                    background-color: var(--colab-primary-surface-color, white);\n",
       "                }\n",
       "\n",
       "                .geemap-colab .jupyter-button {\n",
       "                    --jp-layout-color3: var(--colab-primary-surface-color, white);\n",
       "                }\n",
       "            </style>\n",
       "            "
      ],
      "text/plain": [
       "<IPython.core.display.HTML object>"
      ]
     },
     "metadata": {},
     "output_type": "display_data"
    }
   ],
   "source": [
    "import ee\n",
    "import geemap\n",
    "import geopandas as gpd\n",
    "from tqdm import tqdm"
   ]
  },
  {
   "cell_type": "code",
   "execution_count": 192,
   "metadata": {},
   "outputs": [
    {
     "data": {
      "text/html": [
       "\n",
       "            <style>\n",
       "                .geemap-dark {\n",
       "                    --jp-widgets-color: white;\n",
       "                    --jp-widgets-label-color: white;\n",
       "                    --jp-ui-font-color1: white;\n",
       "                    --jp-layout-color2: #454545;\n",
       "                    background-color: #383838;\n",
       "                }\n",
       "\n",
       "                .geemap-dark .jupyter-button {\n",
       "                    --jp-layout-color3: #383838;\n",
       "                }\n",
       "\n",
       "                .geemap-colab {\n",
       "                    background-color: var(--colab-primary-surface-color, white);\n",
       "                }\n",
       "\n",
       "                .geemap-colab .jupyter-button {\n",
       "                    --jp-layout-color3: var(--colab-primary-surface-color, white);\n",
       "                }\n",
       "            </style>\n",
       "            "
      ],
      "text/plain": [
       "<IPython.core.display.HTML object>"
      ]
     },
     "metadata": {},
     "output_type": "display_data"
    }
   ],
   "source": [
    "MIN_DEFORESTATION_YEAR = 2016\n",
    "REFERENCE_YEAR = 2020\n",
    "FOREST_COVER_THRESHOLD = 50\n",
    "TRAINING_PATCH = ee.Geometry.Polygon([\n",
    "    [17.5, 50.5],\n",
    "    [17.5, 51.2],\n",
    "    [19.3, 51.2],\n",
    "    [19.3, 50.5]\n",
    "])\n",
    "TRAIN_TEST_SPLIT = 0.8\n",
    "BOUNDING_BOX_BUFFER_METERS = 1000"
   ]
  },
  {
   "cell_type": "code",
   "execution_count": 193,
   "metadata": {},
   "outputs": [
    {
     "data": {
      "text/html": [
       "\n",
       "            <style>\n",
       "                .geemap-dark {\n",
       "                    --jp-widgets-color: white;\n",
       "                    --jp-widgets-label-color: white;\n",
       "                    --jp-ui-font-color1: white;\n",
       "                    --jp-layout-color2: #454545;\n",
       "                    background-color: #383838;\n",
       "                }\n",
       "\n",
       "                .geemap-dark .jupyter-button {\n",
       "                    --jp-layout-color3: #383838;\n",
       "                }\n",
       "\n",
       "                .geemap-colab {\n",
       "                    background-color: var(--colab-primary-surface-color, white);\n",
       "                }\n",
       "\n",
       "                .geemap-colab .jupyter-button {\n",
       "                    --jp-layout-color3: var(--colab-primary-surface-color, white);\n",
       "                }\n",
       "            </style>\n",
       "            "
      ],
      "text/plain": [
       "<IPython.core.display.HTML object>"
      ]
     },
     "metadata": {},
     "output_type": "display_data"
    }
   ],
   "source": [
    "def create_labeled_image(region_geometry, min_deforestation_year, reference_year, forest_cover_threshold):\n",
    "    hansen_data = ee.Image(\"UMD/hansen/global_forest_change_2023_v1_11\").clip(region_geometry)\n",
    "    treecover = hansen_data.select(\"treecover2000\").gte(forest_cover_threshold)\n",
    "    lossyear = hansen_data.select(\"lossyear\")\n",
    "    year_of_loss = lossyear.add(2000)\n",
    "    \n",
    "    class_forest = hansen_data.select(\"treecover2000\").gt(forest_cover_threshold)\n",
    "    \n",
    "    # Class 2: Forest AND deforested between min_deforestation_year and reference_year\n",
    "    class_recent_deforestation = (\n",
    "        treecover\n",
    "        .And(year_of_loss.gte(min_deforestation_year))\n",
    "        .And(year_of_loss.lte(reference_year))\n",
    "    ).selfMask().unmask(0)\n",
    "    \n",
    "    # Combine classes (mutually exclusive)\n",
    "    labeled = (\n",
    "        class_recent_deforestation.add(class_forest)\n",
    "    ).rename(\"land_class\")\n",
    "    \n",
    "    return labeled"
   ]
  },
  {
   "cell_type": "code",
   "execution_count": 194,
   "metadata": {},
   "outputs": [
    {
     "data": {
      "text/html": [
       "\n",
       "            <style>\n",
       "                .geemap-dark {\n",
       "                    --jp-widgets-color: white;\n",
       "                    --jp-widgets-label-color: white;\n",
       "                    --jp-ui-font-color1: white;\n",
       "                    --jp-layout-color2: #454545;\n",
       "                    background-color: #383838;\n",
       "                }\n",
       "\n",
       "                .geemap-dark .jupyter-button {\n",
       "                    --jp-layout-color3: #383838;\n",
       "                }\n",
       "\n",
       "                .geemap-colab {\n",
       "                    background-color: var(--colab-primary-surface-color, white);\n",
       "                }\n",
       "\n",
       "                .geemap-colab .jupyter-button {\n",
       "                    --jp-layout-color3: var(--colab-primary-surface-color, white);\n",
       "                }\n",
       "            </style>\n",
       "            "
      ],
      "text/plain": [
       "<IPython.core.display.HTML object>"
      ]
     },
     "metadata": {},
     "output_type": "display_data"
    },
    {
     "data": {
      "application/vnd.jupyter.widget-view+json": {
       "model_id": "244fe9b1bc844ef7a2dbcc6c7f9d433c",
       "version_major": 2,
       "version_minor": 0
      },
      "text/plain": [
       "Map(center=[50.85258536025442, 18.399999999999924], controls=(WidgetControl(options=['position', 'transparent_…"
      ]
     },
     "execution_count": 194,
     "metadata": {},
     "output_type": "execute_result"
    }
   ],
   "source": [
    "# plot a map with \"labeled\" results from previous cell\n",
    "labeled = create_labeled_image(\n",
    "    TRAINING_PATCH, MIN_DEFORESTATION_YEAR, REFERENCE_YEAR, FOREST_COVER_THRESHOLD\n",
    ")\n",
    "\n",
    "# show a map\n",
    "map = geemap.Map()\n",
    "\n",
    "map.centerObject(TRAINING_PATCH, 12)\n",
    "# map.addLayer(TRAINING_PATCH, {\"color\": \"blue\"}, \"Training Patch\")\n",
    "map.addLayer(labeled, {\"min\": 0, \"max\": 2, \"palette\": [\"black\", \"green\", \"red\"]})\n",
    "map"
   ]
  },
  {
   "cell_type": "code",
   "execution_count": 195,
   "metadata": {},
   "outputs": [
    {
     "data": {
      "text/html": [
       "\n",
       "            <style>\n",
       "                .geemap-dark {\n",
       "                    --jp-widgets-color: white;\n",
       "                    --jp-widgets-label-color: white;\n",
       "                    --jp-ui-font-color1: white;\n",
       "                    --jp-layout-color2: #454545;\n",
       "                    background-color: #383838;\n",
       "                }\n",
       "\n",
       "                .geemap-dark .jupyter-button {\n",
       "                    --jp-layout-color3: #383838;\n",
       "                }\n",
       "\n",
       "                .geemap-colab {\n",
       "                    background-color: var(--colab-primary-surface-color, white);\n",
       "                }\n",
       "\n",
       "                .geemap-colab .jupyter-button {\n",
       "                    --jp-layout-color3: var(--colab-primary-surface-color, white);\n",
       "                }\n",
       "            </style>\n",
       "            "
      ],
      "text/plain": [
       "<IPython.core.display.HTML object>"
      ]
     },
     "metadata": {},
     "output_type": "display_data"
    }
   ],
   "source": [
    "def extract_training_data(\n",
    "    region_geometry,\n",
    "    min_deforestation_year,\n",
    "    reference_year,\n",
    "    forest_cover_threshold,\n",
    "    train_test_split,\n",
    "):\n",
    "    labeled = create_labeled_image(\n",
    "        region_geometry, min_deforestation_year, reference_year, forest_cover_threshold\n",
    "    )\n",
    "    sat_image = (\n",
    "        ee.ImageCollection(\"COPERNICUS/S2\")\n",
    "        .filterDate(f\"{reference_year + 1}-06-01\", f\"{reference_year + 1}-08-31\")\n",
    "        .filterBounds(region_geometry)\n",
    "        .filter(ee.Filter.lt(\"CLOUDY_PIXEL_PERCENTAGE\", 20))\n",
    "        .median()\n",
    "        .clip(region_geometry)\n",
    "    )\n",
    "    merged = sat_image.addBands(labeled)\n",
    "    points_all = merged.sample(\n",
    "        region=region_geometry,\n",
    "        scale=30,\n",
    "        numPixels=250000,\n",
    "        seed=42,\n",
    "        tileScale=2,\n",
    "        geometries=True,\n",
    "    )\n",
    "\n",
    "    none_points = points_all.filter(ee.Filter.eq(\"land_class\", 0))\n",
    "    forest_points = points_all.filter(ee.Filter.eq(\"land_class\", 1))\n",
    "    deforest_points = points_all.filter(ee.Filter.eq(\"land_class\", 2))\n",
    "\n",
    "    none_count = none_points.size().getInfo()\n",
    "    forest_count = forest_points.size().getInfo()\n",
    "    deforest_count = deforest_points.size().getInfo()\n",
    "\n",
    "    min_count = min(none_count, forest_count, deforest_count)\n",
    "\n",
    "    none_points_limited = none_points.limit(min_count)\n",
    "    forest_points_limited = forest_points.limit(min_count)\n",
    "    deforest_points_limited = deforest_points.limit(min_count)\n",
    "\n",
    "    balanced_points = none_points_limited.merge(forest_points_limited).merge(\n",
    "        deforest_points_limited\n",
    "    )\n",
    "\n",
    "    print(\"Balanced points count:\", min_count, \"(per class)\")\n",
    "\n",
    "    points_with_random = balanced_points.randomColumn(\"random_value\", seed=42)\n",
    "    train_points = points_with_random.filter(\n",
    "        ee.Filter.lt(\"random_value\", train_test_split)\n",
    "    )\n",
    "    test_points = points_with_random.filter(\n",
    "        ee.Filter.gte(\"random_value\", train_test_split)\n",
    "    )\n",
    "\n",
    "    return sat_image, labeled, train_points, test_points"
   ]
  },
  {
   "cell_type": "code",
   "execution_count": 221,
   "metadata": {},
   "outputs": [
    {
     "data": {
      "text/html": [
       "\n",
       "            <style>\n",
       "                .geemap-dark {\n",
       "                    --jp-widgets-color: white;\n",
       "                    --jp-widgets-label-color: white;\n",
       "                    --jp-ui-font-color1: white;\n",
       "                    --jp-layout-color2: #454545;\n",
       "                    background-color: #383838;\n",
       "                }\n",
       "\n",
       "                .geemap-dark .jupyter-button {\n",
       "                    --jp-layout-color3: #383838;\n",
       "                }\n",
       "\n",
       "                .geemap-colab {\n",
       "                    background-color: var(--colab-primary-surface-color, white);\n",
       "                }\n",
       "\n",
       "                .geemap-colab .jupyter-button {\n",
       "                    --jp-layout-color3: var(--colab-primary-surface-color, white);\n",
       "                }\n",
       "            </style>\n",
       "            "
      ],
      "text/plain": [
       "<IPython.core.display.HTML object>"
      ]
     },
     "metadata": {},
     "output_type": "display_data"
    }
   ],
   "source": [
    "def show_training_samples(sat_image, train_points, test_points):\n",
    "    all_points = ee.FeatureCollection(train_points).merge(test_points)\n",
    "    color_mapped = all_points.map(\n",
    "        lambda f: f.set(\"style\", {\n",
    "            \"color\": ee.Algorithms.If(\n",
    "                f.getNumber(\"land_class\").eq(0),\n",
    "                \"grey\",\n",
    "                ee.Algorithms.If(\n",
    "                    f.getNumber(\"land_class\").eq(1),\n",
    "                    \"green\",\n",
    "                    \"orange\"\n",
    "                )\n",
    "            ),\n",
    "            \"pointSize\": 5\n",
    "        })\n",
    "    )\n",
    "    m = geemap.Map()\n",
    "    m.centerObject(all_points.geometry(), 8)\n",
    "    rgb_viz = {\"bands\": [\"B4\", \"B3\", \"B2\"], \"min\": 0, \"max\": 3000, \"gamma\": 1.2}\n",
    "    m.addLayer(sat_image, rgb_viz, \"Sentinel\")\n",
    "    m.addLayer(color_mapped.style(**{\"styleProperty\": \"style\"}), {}, \"Train/Test Points\")\n",
    "    return m\n"
   ]
  },
  {
   "cell_type": "code",
   "execution_count": 217,
   "metadata": {},
   "outputs": [
    {
     "data": {
      "text/html": [
       "\n",
       "            <style>\n",
       "                .geemap-dark {\n",
       "                    --jp-widgets-color: white;\n",
       "                    --jp-widgets-label-color: white;\n",
       "                    --jp-ui-font-color1: white;\n",
       "                    --jp-layout-color2: #454545;\n",
       "                    background-color: #383838;\n",
       "                }\n",
       "\n",
       "                .geemap-dark .jupyter-button {\n",
       "                    --jp-layout-color3: #383838;\n",
       "                }\n",
       "\n",
       "                .geemap-colab {\n",
       "                    background-color: var(--colab-primary-surface-color, white);\n",
       "                }\n",
       "\n",
       "                .geemap-colab .jupyter-button {\n",
       "                    --jp-layout-color3: var(--colab-primary-surface-color, white);\n",
       "                }\n",
       "            </style>\n",
       "            "
      ],
      "text/plain": [
       "<IPython.core.display.HTML object>"
      ]
     },
     "metadata": {},
     "output_type": "display_data"
    }
   ],
   "source": [
    "import pickle\n",
    "import json\n",
    "\n",
    "\n",
    "def train_classifier(train_points, test_points, bands, classifier=None, disable_train_val=False, train_suite_name=\"final\"):\n",
    "    print(\"Trenuję klasyfikator...\")\n",
    "    if classifier is None:\n",
    "        classifier = ee.Classifier.smileRandomForest(numberOfTrees=50)\n",
    "    \n",
    "    classifier = classifier.train(\n",
    "        features=train_points, classProperty=\"land_class\", inputProperties=bands\n",
    "    )\n",
    "\n",
    "    classifier_str = \"_\".join([f\"{k}_{v}\" for k, v in classifier.getInfo()['classifier'].items()])\n",
    "    classifier_str = classifier_str.replace(\".\", \"_\")\n",
    "    \n",
    "    print(f\"Zapisuje klasyfikator jako: {classifier_str}\")\n",
    "    \n",
    "    print(\"Obliczam metryki treningowe i testowe...\")\n",
    "    test_pred = test_points.classify(classifier)\n",
    "    \n",
    "    conf_matrix_test_info = test_pred.errorMatrix(\"land_class\", \"classification\").getInfo()\n",
    "    \n",
    "    # Obliczanie dokładności bezpośrednio z macierzy błędów\n",
    "    def compute_accuracy(conf_matrix):\n",
    "        correct = sum(conf_matrix[i][i] for i in range(len(conf_matrix)))\n",
    "        total = sum(sum(row) for row in conf_matrix)\n",
    "        return correct / total if total > 0 else 0\n",
    "\n",
    "    \n",
    "    accuracy_test = compute_accuracy(conf_matrix_test_info)\n",
    "    \n",
    "    \n",
    "    if not disable_train_val:\n",
    "        train_pred = train_points.classify(classifier)\n",
    "        conf_matrix_train_info = train_pred.errorMatrix(\"land_class\", \"classification\").getInfo()\n",
    "        accuracy_train = compute_accuracy(conf_matrix_train_info)\n",
    "        print(\"Macierz błędów (train):\", conf_matrix_train_info)\n",
    "        print(\"Dokładność (train):\", accuracy_train)\n",
    "    print(\"Macierz błędów (test):\", conf_matrix_test_info)\n",
    "    print(\"Dokładność (test):\", accuracy_test)\n",
    "    \n",
    "    # Zapis wyników\n",
    "    result = {\n",
    "        \"conf_matrix_train\": conf_matrix_train_info if not disable_train_val else None,\n",
    "        \"accuracy_train\": accuracy_train if not disable_train_val else None,\n",
    "        \"conf_matrix_test\": conf_matrix_test_info,\n",
    "        \"accuracy_test\": accuracy_test\n",
    "    }\n",
    "    \n",
    "    with open(f\"results_{train_suite_name}/{classifier_str}.json\", \"w\") as f:\n",
    "        json.dump(result, f)\n",
    "    \n",
    "    with open(f\"models_{train_suite_name}/{classifier_str}.pkl\", \"wb\") as f:\n",
    "        pickle.dump(classifier, f)\n",
    "    \n",
    "    return classifier\n"
   ]
  },
  {
   "cell_type": "code",
   "execution_count": 198,
   "metadata": {},
   "outputs": [
    {
     "data": {
      "text/html": [
       "\n",
       "            <style>\n",
       "                .geemap-dark {\n",
       "                    --jp-widgets-color: white;\n",
       "                    --jp-widgets-label-color: white;\n",
       "                    --jp-ui-font-color1: white;\n",
       "                    --jp-layout-color2: #454545;\n",
       "                    background-color: #383838;\n",
       "                }\n",
       "\n",
       "                .geemap-dark .jupyter-button {\n",
       "                    --jp-layout-color3: #383838;\n",
       "                }\n",
       "\n",
       "                .geemap-colab {\n",
       "                    background-color: var(--colab-primary-surface-color, white);\n",
       "                }\n",
       "\n",
       "                .geemap-colab .jupyter-button {\n",
       "                    --jp-layout-color3: var(--colab-primary-surface-color, white);\n",
       "                }\n",
       "            </style>\n",
       "            "
      ],
      "text/plain": [
       "<IPython.core.display.HTML object>"
      ]
     },
     "metadata": {},
     "output_type": "display_data"
    }
   ],
   "source": [
    "def classify_and_display_results(classifier, bands, bounding_box_buffer_m, reference_year, forest_cover_threshold):\n",
    "    print(\"Wczytuję dane i generuję klasyfikację dla całej Polski...\")\n",
    "    poland = ee.FeatureCollection(\"FAO/GAUL/2015/level0\").filter(ee.Filter.eq(\"ADM0_NAME\", \"Poland\")).first()\n",
    "    bbox = poland.geometry().bounds().buffer(bounding_box_buffer_m)\n",
    "    poland_clipped = ee.Feature(poland).geometry().intersection(bbox)\n",
    "    hansen_data = ee.Image(\"UMD/hansen/global_forest_change_2023_v1_11\").clip(poland_clipped)\n",
    "    sat_image = (\n",
    "        ee.ImageCollection(\"COPERNICUS/S2\")\n",
    "        .filterDate(f\"{reference_year + 1}-06-01\", f\"{reference_year + 1}-08-31\")\n",
    "        .filterBounds(poland_clipped)\n",
    "        .filter(ee.Filter.lt(\"CLOUDY_PIXEL_PERCENTAGE\", 20))\n",
    "        .median()\n",
    "        .clip(poland_clipped)\n",
    "    )\n",
    "    classified = sat_image.select(bands).classify(classifier).rename(\"classified\")\n",
    "    m = geemap.Map()\n",
    "    m.centerObject(ee.FeatureCollection([poland]).geometry(), 6)\n",
    "    m.add_basemap(\"OpenStreetMap\")\n",
    "    rgb_viz = {\"bands\": [\"B4\", \"B3\", \"B2\"], \"min\": 0, \"max\": 3000, \"gamma\": 1.2}\n",
    "    class_viz = {\"min\": 0, \"max\": 2, \"palette\": [\"grey\", \"green\", \"orange\"]}\n",
    "    m.addLayer(sat_image, rgb_viz, \"Obraz Sentinel\")\n",
    "    m.addLayer(classified, class_viz, \"Klasyfikacja\")\n",
    "    m.addLayer(hansen_data.select(\"lossyear\"), {\"min\": 0, \"max\": 23, \"palette\": [\"black\", \"yellow\", \"red\"]}, \"Hansen Loss Year\")\n",
    "    forest_mask = hansen_data.select(\"treecover2000\").gte(forest_cover_threshold).selfMask()\n",
    "    m.addLayer(forest_mask, {\"palette\": [\"green\"]}, \"Hansen Forest 2000\")\n",
    "    return m\n"
   ]
  },
  {
   "cell_type": "code",
   "execution_count": 199,
   "metadata": {},
   "outputs": [
    {
     "data": {
      "text/html": [
       "\n",
       "            <style>\n",
       "                .geemap-dark {\n",
       "                    --jp-widgets-color: white;\n",
       "                    --jp-widgets-label-color: white;\n",
       "                    --jp-ui-font-color1: white;\n",
       "                    --jp-layout-color2: #454545;\n",
       "                    background-color: #383838;\n",
       "                }\n",
       "\n",
       "                .geemap-dark .jupyter-button {\n",
       "                    --jp-layout-color3: #383838;\n",
       "                }\n",
       "\n",
       "                .geemap-colab {\n",
       "                    background-color: var(--colab-primary-surface-color, white);\n",
       "                }\n",
       "\n",
       "                .geemap-colab .jupyter-button {\n",
       "                    --jp-layout-color3: var(--colab-primary-surface-color, white);\n",
       "                }\n",
       "            </style>\n",
       "            "
      ],
      "text/plain": [
       "<IPython.core.display.HTML object>"
      ]
     },
     "metadata": {},
     "output_type": "display_data"
    },
    {
     "name": "stdout",
     "output_type": "stream",
     "text": [
      "Balanced points count: 4682 (per class)\n"
     ]
    }
   ],
   "source": [
    "poland_fc = ee.FeatureCollection(\"FAO/GAUL/2015/level0\").filter(ee.Filter.eq(\"ADM0_NAME\", \"Poland\"))\n",
    "region_for_training = poland_fc.geometry().intersection(TRAINING_PATCH)\n",
    "sat_image, labeled_image, train_points, test_points = extract_training_data(\n",
    "    region_for_training,\n",
    "    MIN_DEFORESTATION_YEAR,\n",
    "    REFERENCE_YEAR,\n",
    "    FOREST_COVER_THRESHOLD,\n",
    "    TRAIN_TEST_SPLIT\n",
    ")\n",
    "hansen_data = ee.Image(\"UMD/hansen/global_forest_change_2023_v1_11\").clip(region_for_training)\n"
   ]
  },
  {
   "cell_type": "code",
   "execution_count": 218,
   "metadata": {},
   "outputs": [
    {
     "data": {
      "text/html": [
       "\n",
       "            <style>\n",
       "                .geemap-dark {\n",
       "                    --jp-widgets-color: white;\n",
       "                    --jp-widgets-label-color: white;\n",
       "                    --jp-ui-font-color1: white;\n",
       "                    --jp-layout-color2: #454545;\n",
       "                    background-color: #383838;\n",
       "                }\n",
       "\n",
       "                .geemap-dark .jupyter-button {\n",
       "                    --jp-layout-color3: #383838;\n",
       "                }\n",
       "\n",
       "                .geemap-colab {\n",
       "                    background-color: var(--colab-primary-surface-color, white);\n",
       "                }\n",
       "\n",
       "                .geemap-colab .jupyter-button {\n",
       "                    --jp-layout-color3: var(--colab-primary-surface-color, white);\n",
       "                }\n",
       "            </style>\n",
       "            "
      ],
      "text/plain": [
       "<IPython.core.display.HTML object>"
      ]
     },
     "metadata": {},
     "output_type": "display_data"
    }
   ],
   "source": [
    "train_points = train_points.randomColumn()\n",
    "test_points = test_points.randomColumn()\n",
    "train_points_mini = train_points.limit(150, \"random\")\n",
    "test_points_mini = test_points.limit(150, \"random\")"
   ]
  },
  {
   "cell_type": "code",
   "execution_count": 219,
   "metadata": {},
   "outputs": [
    {
     "data": {
      "text/html": [
       "\n",
       "            <style>\n",
       "                .geemap-dark {\n",
       "                    --jp-widgets-color: white;\n",
       "                    --jp-widgets-label-color: white;\n",
       "                    --jp-ui-font-color1: white;\n",
       "                    --jp-layout-color2: #454545;\n",
       "                    background-color: #383838;\n",
       "                }\n",
       "\n",
       "                .geemap-dark .jupyter-button {\n",
       "                    --jp-layout-color3: #383838;\n",
       "                }\n",
       "\n",
       "                .geemap-colab {\n",
       "                    background-color: var(--colab-primary-surface-color, white);\n",
       "                }\n",
       "\n",
       "                .geemap-colab .jupyter-button {\n",
       "                    --jp-layout-color3: var(--colab-primary-surface-color, white);\n",
       "                }\n",
       "            </style>\n",
       "            "
      ],
      "text/plain": [
       "<IPython.core.display.HTML object>"
      ]
     },
     "metadata": {},
     "output_type": "display_data"
    }
   ],
   "source": [
    "map_samples = show_training_samples(sat_image, train_points_mini, test_points_mini)\n",
    "map_samples"
   ]
  },
  {
   "cell_type": "code",
   "execution_count": null,
   "metadata": {},
   "outputs": [],
   "source": [
    "print(\"Trenuję model...\")\n",
    "bands = [\"B1\", \"B2\", \"B3\", \"B4\", \"B5\", \"B6\", \"B7\", \"B8\", \"B8A\", \"B9\", \"B10\", \"B11\", \"B12\"]\n",
    "\n",
    "classifiers = {\n",
    "    #\"Random Forest n=50\": ee.Classifier.smileRandomForest(numberOfTrees=50),\n",
    "    #\"Random Forest n=100\": ee.Classifier.smileRandomForest(numberOfTrees=100),\n",
    "    #\"Random Forest n=200\": ee.Classifier.smileRandomForest(numberOfTrees=200),\n",
    "    #\"Random Forest n=500\": ee.Classifier.smileRandomForest(numberOfTrees=500),\n",
    "    #\"Gradient Tree Boosting n=50\": ee.Classifier.smileGradientTreeBoost(\n",
    "    #     numberOfTrees=50\n",
    "    # ),\n",
    "    #\"Gradient Tree Boosting n=100\": ee.Classifier.smileGradientTreeBoost(\n",
    "    #    numberOfTrees=100\n",
    "    #),\n",
    "    #\"Gradient Tree Boosting n=200\": ee.Classifier.smileGradientTreeBoost(\n",
    "    #    numberOfTrees=200\n",
    "    #),\n",
    "    #\"Gradient Tree Boosting n=500\": ee.Classifier.smileGradientTreeBoost(\n",
    "    #    numberOfTrees=500\n",
    "    #),\n",
    "    #\"SVM\": ee.Classifier.libsvm(),\n",
    "    \"k-NN k=3\": ee.Classifier.smileKNN(k=3),\n",
    "    \"k-NN k=5\": ee.Classifier.smileKNN(k=5),\n",
    "    \"k-NN k=7\": ee.Classifier.smileKNN(k=7),\n",
    "}\n",
    "\n",
    "for classifier_name in classifiers.keys():\n",
    "    print(f\"==================== {classifier_name} ====================\")\n",
    "    classifiers[classifier_name] = train_classifier(\n",
    "        train_points, test_points, bands, classifiers[classifier_name]\n",
    "    )\n",
    "    print(\"============================================================\")"
   ]
  },
  {
   "cell_type": "code",
   "execution_count": 108,
   "metadata": {},
   "outputs": [
    {
     "data": {
      "text/html": [
       "\n",
       "            <style>\n",
       "                .geemap-dark {\n",
       "                    --jp-widgets-color: white;\n",
       "                    --jp-widgets-label-color: white;\n",
       "                    --jp-ui-font-color1: white;\n",
       "                    --jp-layout-color2: #454545;\n",
       "                    background-color: #383838;\n",
       "                }\n",
       "\n",
       "                .geemap-dark .jupyter-button {\n",
       "                    --jp-layout-color3: #383838;\n",
       "                }\n",
       "\n",
       "                .geemap-colab {\n",
       "                    background-color: var(--colab-primary-surface-color, white);\n",
       "                }\n",
       "\n",
       "                .geemap-colab .jupyter-button {\n",
       "                    --jp-layout-color3: var(--colab-primary-surface-color, white);\n",
       "                }\n",
       "            </style>\n",
       "            "
      ],
      "text/plain": [
       "<IPython.core.display.HTML object>"
      ]
     },
     "metadata": {},
     "output_type": "display_data"
    },
    {
     "name": "stdout",
     "output_type": "stream",
     "text": [
      "Klasyfikuję i wyświetlam wyniki dla całej Polski...\n",
      "Wczytuję dane i generuję klasyfikację dla całej Polski...\n"
     ]
    },
    {
     "data": {
      "application/vnd.jupyter.widget-view+json": {
       "model_id": "62432d1bcf734fdfb308c17723453c95",
       "version_major": 2,
       "version_minor": 0
      },
      "text/plain": [
       "Map(center=[52.108736119738694, 19.430639807941635], controls=(WidgetControl(options=['position', 'transparent…"
      ]
     },
     "execution_count": 108,
     "metadata": {},
     "output_type": "execute_result"
    }
   ],
   "source": [
    "print(\"Klasyfikuję i wyświetlam wyniki dla całej Polski...\")\n",
    "classification_map = classify_and_display_results(\n",
    "    classifiers[\"Random Forest n=200\"],\n",
    "    bands,\n",
    "    BOUNDING_BOX_BUFFER_METERS,\n",
    "    REFERENCE_YEAR,\n",
    "    FOREST_COVER_THRESHOLD\n",
    ")\n",
    "classification_map\n"
   ]
  },
  {
   "cell_type": "code",
   "execution_count": 76,
   "metadata": {},
   "outputs": [
    {
     "data": {
      "text/html": [
       "\n",
       "            <style>\n",
       "                .geemap-dark {\n",
       "                    --jp-widgets-color: white;\n",
       "                    --jp-widgets-label-color: white;\n",
       "                    --jp-ui-font-color1: white;\n",
       "                    --jp-layout-color2: #454545;\n",
       "                    background-color: #383838;\n",
       "                }\n",
       "\n",
       "                .geemap-dark .jupyter-button {\n",
       "                    --jp-layout-color3: #383838;\n",
       "                }\n",
       "\n",
       "                .geemap-colab {\n",
       "                    background-color: var(--colab-primary-surface-color, white);\n",
       "                }\n",
       "\n",
       "                .geemap-colab .jupyter-button {\n",
       "                    --jp-layout-color3: var(--colab-primary-surface-color, white);\n",
       "                }\n",
       "            </style>\n",
       "            "
      ],
      "text/plain": [
       "<IPython.core.display.HTML object>"
      ]
     },
     "metadata": {},
     "output_type": "display_data"
    }
   ],
   "source": [
    "def lookup(source_hist, target_hist):\n",
    "    \"\"\"Creates a lookup table to make a source histogram match a target histogram.\n",
    "\n",
    "    Args:\n",
    "        source_hist: The histogram to modify. Expects the Nx2 array format produced by ee.Reducer.autoHistogram.\n",
    "        target_hist: The histogram to match to. Expects the Nx2 array format produced by ee.Reducer.autoHistogram.\n",
    "\n",
    "    Returns:\n",
    "        A dictionary with 'x' and 'y' properties that respectively represent the x and y\n",
    "        array inputs to the ee.Image.interpolate function.\n",
    "    \"\"\"\n",
    "\n",
    "    # Split the histograms by column and normalize the counts.\n",
    "    source_values = source_hist.slice(1, 0, 1).project([0])\n",
    "    source_counts = source_hist.slice(1, 1, 2).project([0])\n",
    "    source_counts = source_counts.divide(source_counts.get([-1]))\n",
    "\n",
    "    target_values = target_hist.slice(1, 0, 1).project([0])\n",
    "    target_counts = target_hist.slice(1, 1, 2).project([0])\n",
    "    target_counts = target_counts.divide(target_counts.get([-1]))\n",
    "\n",
    "    # Find first position in target where targetCount >= srcCount[i], for each i.\n",
    "    def make_lookup(n):\n",
    "        return target_values.get(target_counts.gte(n).argmax())\n",
    "\n",
    "    lookup = source_counts.toList().map(make_lookup)\n",
    "\n",
    "    return {\"x\": source_values.toList(), \"y\": lookup}\n",
    "\n",
    "\n",
    "def histogram_match(source_img, target_img, geometry, bands):\n",
    "\n",
    "    args = {\n",
    "        \"reducer\": ee.Reducer.autoHistogram(maxBuckets=256, cumulative=True),\n",
    "        \"geometry\": geometry,\n",
    "        \"scale\": 1,  # Need to specify a scale, but it doesn't matter what it is because bestEffort is true.\n",
    "        \"maxPixels\": 65536 * 4 - 1,\n",
    "        \"bestEffort\": True,\n",
    "    }\n",
    "\n",
    "    # Only use pixels in target that have a value in source (inside the footprint and unmasked).\n",
    "    source = source_img.reduceRegion(**args)\n",
    "    target = target_img.updateMask(source_img.mask()).reduceRegion(**args)\n",
    "\n",
    "    interpolated_bands = []\n",
    "    for band in bands:\n",
    "        interpolated_band = source_img.select([band]).interpolate(\n",
    "            **lookup(source.getArray(band), target.getArray(band))\n",
    "        )\n",
    "        interpolated_bands.append(interpolated_band)\n",
    "    \n",
    "    return ee.Image(ee.Image.cat(*interpolated_bands).copyProperties(source_img, [\"system:time_start\"]))\n",
    "\n",
    "\n",
    "def find_closest(target_image, image_col, days):\n",
    "    \"\"\"Filter images in a collection by date proximity and spatial intersection to a target image.\n",
    "\n",
    "    Args:\n",
    "        target_image: An ee.Image whose observation date is used to find near-date images in\n",
    "          the provided image_col image collection. It must have a 'system:time_start' property.\n",
    "        image_col: An ee.ImageCollection to filter by date proximity and spatial intersection\n",
    "          to the target_image. Each image in the collection must have a 'system:time_start'\n",
    "          property.\n",
    "        days: A number that defines the maximum number of days difference allowed between\n",
    "          the target_image and images in the image_col.\n",
    "\n",
    "    Returns:\n",
    "        An ee.ImageCollection that has been filtered to include those images that are within the\n",
    "          given date proximity to target_image and intersect it spatially.\n",
    "    \"\"\"\n",
    "\n",
    "    # Compute the timespan for N days (in milliseconds).\n",
    "    range = ee.Number(days).multiply(1000 * 60 * 60 * 24)\n",
    "\n",
    "    filter = ee.Filter.And(\n",
    "        ee.Filter.maxDifference(range, \"system:time_start\", None, \"system:time_start\"),\n",
    "        ee.Filter.intersects(\".geo\", None, \".geo\"),\n",
    "    )\n",
    "\n",
    "    closest = ee.Join.saveAll(\"matches\", \"measure\").apply(\n",
    "        ee.ImageCollection([target_image]), image_col, filter\n",
    "    )\n",
    "\n",
    "    return ee.ImageCollection(ee.List(closest.first().get(\"matches\")))"
   ]
  },
  {
   "cell_type": "code",
   "execution_count": 79,
   "metadata": {},
   "outputs": [
    {
     "data": {
      "text/html": [
       "\n",
       "            <style>\n",
       "                .geemap-dark {\n",
       "                    --jp-widgets-color: white;\n",
       "                    --jp-widgets-label-color: white;\n",
       "                    --jp-ui-font-color1: white;\n",
       "                    --jp-layout-color2: #454545;\n",
       "                    background-color: #383838;\n",
       "                }\n",
       "\n",
       "                .geemap-dark .jupyter-button {\n",
       "                    --jp-layout-color3: #383838;\n",
       "                }\n",
       "\n",
       "                .geemap-colab {\n",
       "                    background-color: var(--colab-primary-surface-color, white);\n",
       "                }\n",
       "\n",
       "                .geemap-colab .jupyter-button {\n",
       "                    --jp-layout-color3: var(--colab-primary-surface-color, white);\n",
       "                }\n",
       "            </style>\n",
       "            "
      ],
      "text/plain": [
       "<IPython.core.display.HTML object>"
      ]
     },
     "metadata": {},
     "output_type": "display_data"
    },
    {
     "name": "stdout",
     "output_type": "stream",
     "text": [
      "Wczytuję dane i generuję klasyfikację dla całej Polski...\n"
     ]
    },
    {
     "data": {
      "application/vnd.jupyter.widget-view+json": {
       "model_id": "9260ad6861104c94b8734ea00c28329f",
       "version_major": 2,
       "version_minor": 0
      },
      "text/plain": [
       "Map(center=[52.108736119738694, 19.430639807941635], controls=(WidgetControl(options=['position', 'transparent…"
      ]
     },
     "execution_count": 79,
     "metadata": {},
     "output_type": "execute_result"
    }
   ],
   "source": [
    "def classify_and_subtract(classifier, bands, bounding_box_buffer_m, year_from, year_to, forest_cover_threshold):\n",
    "    print(\"Wczytuję dane i generuję klasyfikację dla całej Polski...\")\n",
    "    poland = ee.FeatureCollection(\"FAO/GAUL/2015/level0\").filter(ee.Filter.eq(\"ADM0_NAME\", \"Poland\")).first()\n",
    "    bbox = poland.geometry().bounds().buffer(bounding_box_buffer_m)\n",
    "    poland_clipped = ee.Feature(poland).geometry().intersection(bbox)\n",
    "    hansen_data = ee.Image(\"UMD/hansen/global_forest_change_2023_v1_11\").clip(poland_clipped)\n",
    "    \n",
    "    ref_sat_image = (\n",
    "        ee.ImageCollection(\"COPERNICUS/S2\")\n",
    "        .filterDate(f\"2020-06-01\", f\"2020-08-31\")\n",
    "        .filterBounds(poland_clipped)\n",
    "        .filter(ee.Filter.lt(\"CLOUDY_PIXEL_PERCENTAGE\", 20))\n",
    "        .median()\n",
    "        .clip(poland_clipped)\n",
    "    )    \n",
    "\n",
    "\n",
    "    sat_images = []\n",
    "    for yr in (year_from, year_to):\n",
    "        sat_image = (\n",
    "            ee.ImageCollection(\"COPERNICUS/S2\")\n",
    "            .filterDate(f\"{yr}-06-01\", f\"{yr}-08-31\")\n",
    "            .filterBounds(poland_clipped)\n",
    "            .filter(ee.Filter.lt(\"CLOUDY_PIXEL_PERCENTAGE\", 20))\n",
    "            .median()\n",
    "            .clip(poland_clipped)\n",
    "        )\n",
    "        sat_images.append(sat_image)\n",
    "    \n",
    "    matched_sat_images = []\n",
    "    for i in range(2):\n",
    "        matched_sat_images.append(\n",
    "            histogram_match(\n",
    "                sat_images[i],\n",
    "                ref_sat_image,\n",
    "                poland_clipped,\n",
    "                bands\n",
    "            )\n",
    "        )\n",
    "\n",
    "\n",
    "    classified_from = matched_sat_images[0].select(bands).classify(classifier).rename(\"classified start\")\n",
    "    classified_to = matched_sat_images[1].select(bands).classify(classifier).rename(\"classified start\")\n",
    "    \n",
    "    m = geemap.Map()\n",
    "    m.centerObject(ee.FeatureCollection([poland]).geometry(), 6)\n",
    "    rgb_viz = {\"bands\": [\"B4\", \"B3\", \"B2\"], \"min\": 0, \"max\": 3000, \"gamma\": 1.2}\n",
    "    class_viz = {\"min\": 0, \"max\": 2, \"palette\": [\"grey\", \"green\", \"orange\"]}\n",
    "    m.addLayer(sat_images[0], rgb_viz, f\"Sentinel {year_from}\")\n",
    "    m.addLayer(sat_images[1], rgb_viz, f\"Sentinel {year_to}\")\n",
    "    m.addLayer(matched_sat_images[0], rgb_viz, f\"Sentinel Matched {year_from}\")\n",
    "    m.addLayer(matched_sat_images[1], rgb_viz, f\"Sentinel Matched {year_to}\")\n",
    "    m.addLayer(ref_sat_image, rgb_viz, \"Sentinel 2020 (Reference)\")\n",
    "    \n",
    "    m.addLayer(classified_from, class_viz, \"Klasyfikacja from\")\n",
    "    m.addLayer(classified_to, class_viz, \"Klasyfikacja to\")\n",
    "    #m.addLayer(hansen_data.select(\"lossyear\"), {\"min\": 0, \"max\": 23, \"palette\": [\"black\", \"yellow\", \"red\"]}, \"Hansen Loss Year\")\n",
    "    #forest_mask = hansen_data.select(\"treecover2000\").gte(forest_cover_threshold).selfMask()\n",
    "    #m.addLayer(forest_mask, {\"palette\": [\"green\"]}, \"Hansen Forest 2000\")\n",
    "    return m\n",
    "\n",
    "classify_and_subtract(classifiers[\"Random Forest n=200\"], bands, BOUNDING_BOX_BUFFER_METERS, 2019, 2022, FOREST_COVER_THRESHOLD)"
   ]
  }
 ],
 "metadata": {
  "kernelspec": {
   "display_name": "venv",
   "language": "python",
   "name": "python3"
  },
  "language_info": {
   "codemirror_mode": {
    "name": "ipython",
    "version": 3
   },
   "file_extension": ".py",
   "mimetype": "text/x-python",
   "name": "python",
   "nbconvert_exporter": "python",
   "pygments_lexer": "ipython3",
   "version": "3.11.5"
  }
 },
 "nbformat": 4,
 "nbformat_minor": 2
}
